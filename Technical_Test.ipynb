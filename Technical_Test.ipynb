{
  "nbformat": 4,
  "nbformat_minor": 0,
  "metadata": {
    "colab": {
      "name": "Technical_Test.ipynb",
      "provenance": [],
      "collapsed_sections": [
        "ZbP3O0jUgmHT",
        "3z3rd1Nb1GWs",
        "ZMfNAv9V1M8g",
        "gwomyypW1YvE",
        "lweG7FAs_rP3",
        "FZwGO8Nh1k5M",
        "iUbd70KL1rM9",
        "vuiViJy-I92g",
        "mHve6h0DguiD"
      ],
      "authorship_tag": "ABX9TyMmXLwXsqJq7wkGMouq0bBb",
      "include_colab_link": true
    },
    "kernelspec": {
      "name": "python3",
      "display_name": "Python 3"
    },
    "language_info": {
      "name": "python"
    }
  },
  "cells": [
    {
      "cell_type": "markdown",
      "metadata": {
        "id": "view-in-github",
        "colab_type": "text"
      },
      "source": [
        "<a href=\"https://colab.research.google.com/github/irawan09/Click_Prediction/blob/master/Technical_Test.ipynb\" target=\"_parent\"><img src=\"https://colab.research.google.com/assets/colab-badge.svg\" alt=\"Open In Colab\"/></a>"
      ]
    },
    {
      "cell_type": "markdown",
      "metadata": {
        "id": "XAUF02Pgf0PS"
      },
      "source": [
        "#Gaussian Naive Bayes"
      ]
    },
    {
      "cell_type": "markdown",
      "metadata": {
        "id": "ZbP3O0jUgmHT"
      },
      "source": [
        "##Importing library"
      ]
    },
    {
      "cell_type": "code",
      "metadata": {
        "id": "VYdc1J6AsX4p"
      },
      "source": [
        "import pandas as pd\n",
        "from math import sqrt\n",
        "from math import pi\n",
        "from math import exp"
      ],
      "execution_count": 17,
      "outputs": []
    },
    {
      "cell_type": "markdown",
      "metadata": {
        "id": "3z3rd1Nb1GWs"
      },
      "source": [
        "##Read dataset"
      ]
    },
    {
      "cell_type": "markdown",
      "metadata": {
        "id": "ZMfNAv9V1M8g"
      },
      "source": [
        "###Read Train dataset\n",
        "\n",
        "Read the dataset using pandas library and display 5 first row data"
      ]
    },
    {
      "cell_type": "code",
      "metadata": {
        "colab": {
          "base_uri": "https://localhost:8080/",
          "height": 513
        },
        "id": "eM-rj8V4uD0H",
        "outputId": "d07f3da8-bcd4-4579-ae60-adb603714562"
      },
      "source": [
        "train_url = \"https://media.githubusercontent.com/media/irawan09/Click_Prediction/master/train_set.csv\"\n",
        "traindataset=pd.read_csv(train_url)\n",
        "traindataset.head()"
      ],
      "execution_count": 18,
      "outputs": [
        {
          "output_type": "execute_result",
          "data": {
            "text/html": [
              "<div>\n",
              "<style scoped>\n",
              "    .dataframe tbody tr th:only-of-type {\n",
              "        vertical-align: middle;\n",
              "    }\n",
              "\n",
              "    .dataframe tbody tr th {\n",
              "        vertical-align: top;\n",
              "    }\n",
              "\n",
              "    .dataframe thead th {\n",
              "        text-align: right;\n",
              "    }\n",
              "</style>\n",
              "<table border=\"1\" class=\"dataframe\">\n",
              "  <thead>\n",
              "    <tr style=\"text-align: right;\">\n",
              "      <th></th>\n",
              "      <th>Session Id</th>\n",
              "      <th>DateTime</th>\n",
              "      <th>User Id</th>\n",
              "      <th>Product Type</th>\n",
              "      <th>Campaign Id</th>\n",
              "      <th>Webpage Id</th>\n",
              "      <th>Product Category</th>\n",
              "      <th>Advertisment Size</th>\n",
              "      <th>User Depth</th>\n",
              "      <th>Internet Browser Id</th>\n",
              "      <th>Gender</th>\n",
              "      <th>Age Group</th>\n",
              "      <th>City Size</th>\n",
              "      <th>Device Used</th>\n",
              "      <th>Clicked</th>\n",
              "      <th>Interested In Cars</th>\n",
              "      <th>Interested In Food</th>\n",
              "      <th>Interested In News</th>\n",
              "      <th>Interested In Technology</th>\n",
              "      <th>Interested In Medicine</th>\n",
              "      <th>Interested In Politics</th>\n",
              "      <th>Interested In Fashion</th>\n",
              "      <th>Interested In Astronomy</th>\n",
              "      <th>Interested In Animals</th>\n",
              "      <th>Interested In Travel</th>\n",
              "    </tr>\n",
              "  </thead>\n",
              "  <tbody>\n",
              "    <tr>\n",
              "      <th>0</th>\n",
              "      <td>229ac4c2-0ee9-4a3b-b52c-3b20c9d43039</td>\n",
              "      <td>09-04-2021 00:00</td>\n",
              "      <td>858557</td>\n",
              "      <td>C</td>\n",
              "      <td>359520</td>\n",
              "      <td>13787</td>\n",
              "      <td>4</td>\n",
              "      <td>NaN</td>\n",
              "      <td>3.0</td>\n",
              "      <td>10.0</td>\n",
              "      <td>F</td>\n",
              "      <td>45-54</td>\n",
              "      <td>5900000.0</td>\n",
              "      <td>Mobile</td>\n",
              "      <td>No</td>\n",
              "      <td>1</td>\n",
              "      <td>0</td>\n",
              "      <td>1</td>\n",
              "      <td>0</td>\n",
              "      <td>1</td>\n",
              "      <td>0</td>\n",
              "      <td>0</td>\n",
              "      <td>0</td>\n",
              "      <td>1</td>\n",
              "      <td>0</td>\n",
              "    </tr>\n",
              "    <tr>\n",
              "      <th>1</th>\n",
              "      <td>87c0f74a-fa7a-4b3f-bc48-ad1a5f80de2e</td>\n",
              "      <td>09-04-2021 00:00</td>\n",
              "      <td>243253</td>\n",
              "      <td>C</td>\n",
              "      <td>105960</td>\n",
              "      <td>11085</td>\n",
              "      <td>5</td>\n",
              "      <td>NaN</td>\n",
              "      <td>2.0</td>\n",
              "      <td>8.0</td>\n",
              "      <td>F</td>\n",
              "      <td>25-34</td>\n",
              "      <td>NaN</td>\n",
              "      <td>Mobile</td>\n",
              "      <td>No</td>\n",
              "      <td>1</td>\n",
              "      <td>0</td>\n",
              "      <td>1</td>\n",
              "      <td>1</td>\n",
              "      <td>1</td>\n",
              "      <td>0</td>\n",
              "      <td>0</td>\n",
              "      <td>0</td>\n",
              "      <td>1</td>\n",
              "      <td>1</td>\n",
              "    </tr>\n",
              "    <tr>\n",
              "      <th>2</th>\n",
              "      <td>b746f0ad-1aa3-492c-b7fa-5dd95643fb51</td>\n",
              "      <td>09-04-2021 00:00</td>\n",
              "      <td>243253</td>\n",
              "      <td>C</td>\n",
              "      <td>359520</td>\n",
              "      <td>13787</td>\n",
              "      <td>4</td>\n",
              "      <td>NaN</td>\n",
              "      <td>2.0</td>\n",
              "      <td>8.0</td>\n",
              "      <td>F</td>\n",
              "      <td>25-34</td>\n",
              "      <td>NaN</td>\n",
              "      <td>Mobile</td>\n",
              "      <td>No</td>\n",
              "      <td>1</td>\n",
              "      <td>0</td>\n",
              "      <td>0</td>\n",
              "      <td>1</td>\n",
              "      <td>0</td>\n",
              "      <td>0</td>\n",
              "      <td>1</td>\n",
              "      <td>0</td>\n",
              "      <td>0</td>\n",
              "      <td>0</td>\n",
              "    </tr>\n",
              "    <tr>\n",
              "      <th>3</th>\n",
              "      <td>36257832-77d5-4d8d-9abd-25d49dffb20d</td>\n",
              "      <td>09-04-2021 00:00</td>\n",
              "      <td>1097446</td>\n",
              "      <td>I</td>\n",
              "      <td>359520</td>\n",
              "      <td>13787</td>\n",
              "      <td>3</td>\n",
              "      <td>NaN</td>\n",
              "      <td>3.0</td>\n",
              "      <td>3.0</td>\n",
              "      <td>M</td>\n",
              "      <td>35-44</td>\n",
              "      <td>500000.0</td>\n",
              "      <td>PC/Laptop</td>\n",
              "      <td>No</td>\n",
              "      <td>0</td>\n",
              "      <td>1</td>\n",
              "      <td>1</td>\n",
              "      <td>1</td>\n",
              "      <td>0</td>\n",
              "      <td>0</td>\n",
              "      <td>1</td>\n",
              "      <td>0</td>\n",
              "      <td>0</td>\n",
              "      <td>0</td>\n",
              "    </tr>\n",
              "    <tr>\n",
              "      <th>4</th>\n",
              "      <td>df3a66aa-4714-407d-b6fe-49fe03ce8f16</td>\n",
              "      <td>09-04-2021 00:01</td>\n",
              "      <td>663656</td>\n",
              "      <td>C</td>\n",
              "      <td>405490</td>\n",
              "      <td>60305</td>\n",
              "      <td>3</td>\n",
              "      <td>NaN</td>\n",
              "      <td>3.0</td>\n",
              "      <td>2.0</td>\n",
              "      <td>M</td>\n",
              "      <td>25-34</td>\n",
              "      <td>500000.0</td>\n",
              "      <td>PC/Laptop</td>\n",
              "      <td>No</td>\n",
              "      <td>0</td>\n",
              "      <td>1</td>\n",
              "      <td>0</td>\n",
              "      <td>0</td>\n",
              "      <td>0</td>\n",
              "      <td>1</td>\n",
              "      <td>1</td>\n",
              "      <td>1</td>\n",
              "      <td>0</td>\n",
              "      <td>0</td>\n",
              "    </tr>\n",
              "  </tbody>\n",
              "</table>\n",
              "</div>"
            ],
            "text/plain": [
              "                             Session Id  ... Interested In Travel\n",
              "0  229ac4c2-0ee9-4a3b-b52c-3b20c9d43039  ...                    0\n",
              "1  87c0f74a-fa7a-4b3f-bc48-ad1a5f80de2e  ...                    1\n",
              "2  b746f0ad-1aa3-492c-b7fa-5dd95643fb51  ...                    0\n",
              "3  36257832-77d5-4d8d-9abd-25d49dffb20d  ...                    0\n",
              "4  df3a66aa-4714-407d-b6fe-49fe03ce8f16  ...                    0\n",
              "\n",
              "[5 rows x 25 columns]"
            ]
          },
          "metadata": {},
          "execution_count": 18
        }
      ]
    },
    {
      "cell_type": "code",
      "metadata": {
        "colab": {
          "base_uri": "https://localhost:8080/"
        },
        "id": "dXyIPGwMuQqG",
        "outputId": "d2beb7f1-eeb9-46de-e387-d0bfdc7a73d8"
      },
      "source": [
        "traindataset.size"
      ],
      "execution_count": 19,
      "outputs": [
        {
          "output_type": "execute_result",
          "data": {
            "text/plain": [
              "9795625"
            ]
          },
          "metadata": {},
          "execution_count": 19
        }
      ]
    },
    {
      "cell_type": "markdown",
      "metadata": {
        "id": "gwomyypW1YvE"
      },
      "source": [
        "###Read Test dataset"
      ]
    },
    {
      "cell_type": "code",
      "metadata": {
        "colab": {
          "base_uri": "https://localhost:8080/",
          "height": 0
        },
        "id": "Kcf7XmQS0h__",
        "outputId": "20057dd4-5674-4ec7-fa1e-7bd21b17c838"
      },
      "source": [
        "test_url = \"https://media.githubusercontent.com/media/irawan09/Click_Prediction/master/test_set.csv\"\n",
        "testdataset=pd.read_csv(test_url)\n",
        "testdataset.head()"
      ],
      "execution_count": 20,
      "outputs": [
        {
          "output_type": "execute_result",
          "data": {
            "text/html": [
              "<div>\n",
              "<style scoped>\n",
              "    .dataframe tbody tr th:only-of-type {\n",
              "        vertical-align: middle;\n",
              "    }\n",
              "\n",
              "    .dataframe tbody tr th {\n",
              "        vertical-align: top;\n",
              "    }\n",
              "\n",
              "    .dataframe thead th {\n",
              "        text-align: right;\n",
              "    }\n",
              "</style>\n",
              "<table border=\"1\" class=\"dataframe\">\n",
              "  <thead>\n",
              "    <tr style=\"text-align: right;\">\n",
              "      <th></th>\n",
              "      <th>Session Id</th>\n",
              "      <th>DateTime</th>\n",
              "      <th>User Id</th>\n",
              "      <th>Product Type</th>\n",
              "      <th>Campaign Id</th>\n",
              "      <th>Webpage Id</th>\n",
              "      <th>Product Category</th>\n",
              "      <th>Advertisment Size</th>\n",
              "      <th>User Depth</th>\n",
              "      <th>Internet Browser Id</th>\n",
              "      <th>Gender</th>\n",
              "      <th>Age Group</th>\n",
              "      <th>City Size</th>\n",
              "      <th>Device Used</th>\n",
              "      <th>Interested In Cars</th>\n",
              "      <th>Interested In Food</th>\n",
              "      <th>Interested In News</th>\n",
              "      <th>Interested In Technology</th>\n",
              "      <th>Interested In Medicine</th>\n",
              "      <th>Interested In Politics</th>\n",
              "      <th>Interested In Fashion</th>\n",
              "      <th>Interested In Astronomy</th>\n",
              "      <th>Interested In Animals</th>\n",
              "      <th>Interested In Travel</th>\n",
              "    </tr>\n",
              "  </thead>\n",
              "  <tbody>\n",
              "    <tr>\n",
              "      <th>0</th>\n",
              "      <td>41cb91c7-ec1d-4e71-98fd-9e1c374bd33b</td>\n",
              "      <td>14-04-2021 00:00</td>\n",
              "      <td>262150</td>\n",
              "      <td>C</td>\n",
              "      <td>405490</td>\n",
              "      <td>60305</td>\n",
              "      <td>3</td>\n",
              "      <td>NaN</td>\n",
              "      <td>3.0</td>\n",
              "      <td>2.0</td>\n",
              "      <td>M</td>\n",
              "      <td>25-34</td>\n",
              "      <td>500000.0</td>\n",
              "      <td>PC/Laptop</td>\n",
              "      <td>0</td>\n",
              "      <td>1</td>\n",
              "      <td>0</td>\n",
              "      <td>1</td>\n",
              "      <td>0</td>\n",
              "      <td>1</td>\n",
              "      <td>1</td>\n",
              "      <td>1</td>\n",
              "      <td>0</td>\n",
              "      <td>1</td>\n",
              "    </tr>\n",
              "    <tr>\n",
              "      <th>1</th>\n",
              "      <td>c9d3f8e4-1445-45f2-99db-754bda50766c</td>\n",
              "      <td>14-04-2021 00:00</td>\n",
              "      <td>308173</td>\n",
              "      <td>C</td>\n",
              "      <td>405490</td>\n",
              "      <td>60305</td>\n",
              "      <td>3</td>\n",
              "      <td>NaN</td>\n",
              "      <td>3.0</td>\n",
              "      <td>10.0</td>\n",
              "      <td>F</td>\n",
              "      <td>45-54</td>\n",
              "      <td>500000.0</td>\n",
              "      <td>PC/Laptop</td>\n",
              "      <td>1</td>\n",
              "      <td>1</td>\n",
              "      <td>1</td>\n",
              "      <td>1</td>\n",
              "      <td>0</td>\n",
              "      <td>1</td>\n",
              "      <td>0</td>\n",
              "      <td>0</td>\n",
              "      <td>1</td>\n",
              "      <td>0</td>\n",
              "    </tr>\n",
              "    <tr>\n",
              "      <th>2</th>\n",
              "      <td>f85ffa39-b799-49a1-82b5-2f76a4009212</td>\n",
              "      <td>14-04-2021 00:00</td>\n",
              "      <td>308173</td>\n",
              "      <td>B</td>\n",
              "      <td>118601</td>\n",
              "      <td>28529</td>\n",
              "      <td>4</td>\n",
              "      <td>82527.0</td>\n",
              "      <td>3.0</td>\n",
              "      <td>10.0</td>\n",
              "      <td>F</td>\n",
              "      <td>45-54</td>\n",
              "      <td>500000.0</td>\n",
              "      <td>PC/Laptop</td>\n",
              "      <td>1</td>\n",
              "      <td>0</td>\n",
              "      <td>0</td>\n",
              "      <td>0</td>\n",
              "      <td>1</td>\n",
              "      <td>1</td>\n",
              "      <td>0</td>\n",
              "      <td>1</td>\n",
              "      <td>0</td>\n",
              "      <td>0</td>\n",
              "    </tr>\n",
              "    <tr>\n",
              "      <th>3</th>\n",
              "      <td>49336ffb-a9b7-485c-9891-6274482484e0</td>\n",
              "      <td>14-04-2021 00:00</td>\n",
              "      <td>806073</td>\n",
              "      <td>H</td>\n",
              "      <td>118601</td>\n",
              "      <td>28529</td>\n",
              "      <td>5</td>\n",
              "      <td>82527.0</td>\n",
              "      <td>3.0</td>\n",
              "      <td>3.0</td>\n",
              "      <td>M</td>\n",
              "      <td>35-44</td>\n",
              "      <td>500000.0</td>\n",
              "      <td>Mobile</td>\n",
              "      <td>1</td>\n",
              "      <td>0</td>\n",
              "      <td>1</td>\n",
              "      <td>0</td>\n",
              "      <td>1</td>\n",
              "      <td>1</td>\n",
              "      <td>0</td>\n",
              "      <td>1</td>\n",
              "      <td>1</td>\n",
              "      <td>1</td>\n",
              "    </tr>\n",
              "    <tr>\n",
              "      <th>4</th>\n",
              "      <td>8ea9c920-6686-46f2-acd1-4bf20371c28c</td>\n",
              "      <td>14-04-2021 00:00</td>\n",
              "      <td>796787</td>\n",
              "      <td>E</td>\n",
              "      <td>404347</td>\n",
              "      <td>53587</td>\n",
              "      <td>1</td>\n",
              "      <td>146115.0</td>\n",
              "      <td>1.0</td>\n",
              "      <td>3.0</td>\n",
              "      <td>M</td>\n",
              "      <td>35-44</td>\n",
              "      <td>NaN</td>\n",
              "      <td>Mobile</td>\n",
              "      <td>1</td>\n",
              "      <td>0</td>\n",
              "      <td>1</td>\n",
              "      <td>0</td>\n",
              "      <td>1</td>\n",
              "      <td>1</td>\n",
              "      <td>1</td>\n",
              "      <td>0</td>\n",
              "      <td>1</td>\n",
              "      <td>0</td>\n",
              "    </tr>\n",
              "  </tbody>\n",
              "</table>\n",
              "</div>"
            ],
            "text/plain": [
              "                             Session Id  ... Interested In Travel\n",
              "0  41cb91c7-ec1d-4e71-98fd-9e1c374bd33b  ...                    1\n",
              "1  c9d3f8e4-1445-45f2-99db-754bda50766c  ...                    0\n",
              "2  f85ffa39-b799-49a1-82b5-2f76a4009212  ...                    0\n",
              "3  49336ffb-a9b7-485c-9891-6274482484e0  ...                    1\n",
              "4  8ea9c920-6686-46f2-acd1-4bf20371c28c  ...                    0\n",
              "\n",
              "[5 rows x 24 columns]"
            ]
          },
          "metadata": {},
          "execution_count": 20
        }
      ]
    },
    {
      "cell_type": "code",
      "metadata": {
        "colab": {
          "base_uri": "https://localhost:8080/"
        },
        "id": "AGnX6t8x02qj",
        "outputId": "11c20cb6-99ad-4787-f501-3f85a62c2224"
      },
      "source": [
        "testdataset.size"
      ],
      "execution_count": 21,
      "outputs": [
        {
          "output_type": "execute_result",
          "data": {
            "text/plain": [
              "1715184"
            ]
          },
          "metadata": {},
          "execution_count": 21
        }
      ]
    },
    {
      "cell_type": "markdown",
      "metadata": {
        "id": "lweG7FAs_rP3"
      },
      "source": [
        "##Data Preprocesing"
      ]
    },
    {
      "cell_type": "markdown",
      "metadata": {
        "id": "FZwGO8Nh1k5M"
      },
      "source": [
        "###Preprocessing Train dataset"
      ]
    },
    {
      "cell_type": "code",
      "metadata": {
        "colab": {
          "base_uri": "https://localhost:8080/"
        },
        "id": "-LIDLaLWAjod",
        "outputId": "532b65b1-89bd-45e5-e3df-485aee9574aa"
      },
      "source": [
        "print (traindataset.groupby('Product Type').groups.keys())\n",
        "pt_map = {\"J\" : 9,\"I\" : 8,\"H\" : 7,\"G\" : 6,\"F\" : 5,\"E\" : 4,\"D\" : 3,\"C\" : 2,\"B\" : 1, \"A\" : 0}\n",
        "traindataset[\"Product Type\"] = traindataset[\"Product Type\"].map(pt_map)\n",
        "\n",
        "print (traindataset.groupby('Gender').groups.keys())\n",
        "s_map = {\"M\" : 1, \"F\" : 0}\n",
        "traindataset[\"Gender\"] = traindataset[\"Gender\"].map(s_map)\n",
        "\n",
        "print (traindataset.groupby('Age Group').groups.keys())\n",
        "g_map = {\">65\" : 6, \"<18\" : 5, \"55-64\" : 4, \"45-54\" : 3, \"35-44\" : 2, \"25-34\" : 1, \"18-24\" : 0}\n",
        "traindataset[\"Age Group\"] = traindataset[\"Age Group\"].map(g_map)\n",
        "\n",
        "\n",
        "print (traindataset.groupby('Device Used').groups.keys())\n",
        "du_map = {\"Mobile\" : 1, \"PC/Laptop\" : 0}\n",
        "traindataset[\"Device Used\"] = traindataset[\"Device Used\"].map(du_map)\n",
        "\n",
        "print (traindataset.groupby('Clicked').groups.keys())\n",
        "c_map = {\"Yes\" : 1, \"No\" : 0}\n",
        "traindataset[\"Clicked\"] = traindataset[\"Clicked\"].map(c_map)\n"
      ],
      "execution_count": 22,
      "outputs": [
        {
          "output_type": "stream",
          "name": "stdout",
          "text": [
            "dict_keys(['A', 'B', 'C', 'D', 'E', 'F', 'G', 'H', 'I', 'J'])\n",
            "dict_keys(['F', 'M'])\n",
            "dict_keys(['18-24', '25-34', '35-44', '45-54', '55-64', '<18', '>65'])\n",
            "dict_keys(['Mobile', 'PC/Laptop'])\n",
            "dict_keys(['No', 'Yes'])\n"
          ]
        }
      ]
    },
    {
      "cell_type": "markdown",
      "metadata": {
        "id": "iUbd70KL1rM9"
      },
      "source": [
        "###Preprocessing Test dataset"
      ]
    },
    {
      "cell_type": "code",
      "metadata": {
        "colab": {
          "base_uri": "https://localhost:8080/"
        },
        "id": "WVpC-sz11w_5",
        "outputId": "bb1366d9-1ee3-41ae-eaba-41e0798a6a6e"
      },
      "source": [
        "print (testdataset.groupby('Product Type').groups.keys())\n",
        "pt_map = {\"J\" : 9,\"I\" : 8,\"H\" : 7,\"G\" : 6,\"F\" : 5,\"E\" : 4,\"D\" : 3,\"C\" : 2,\"B\" : 1, \"A\" : 0}\n",
        "testdataset[\"Product Type\"] = testdataset[\"Product Type\"].map(pt_map)\n",
        "\n",
        "print (testdataset.groupby('Gender').groups.keys())\n",
        "s_map = {\"M\" : 1, \"F\" : 0}\n",
        "testdataset[\"Gender\"] = testdataset[\"Gender\"].map(s_map)\n",
        "\n",
        "print (testdataset.groupby('Age Group').groups.keys())\n",
        "g_map = {\">65\" : 6, \"<18\" : 5, \"55-64\" : 4, \"45-54\" : 3, \"35-44\" : 2, \"25-34\" : 1, \"18-24\" : 0}\n",
        "testdataset[\"Age Group\"] = testdataset[\"Age Group\"].map(g_map)\n",
        "\n",
        "\n",
        "print (testdataset.groupby('Device Used').groups.keys())\n",
        "du_map = {\"Mobile\" : 1, \"PC/Laptop\" : 0}\n",
        "testdataset[\"Device Used\"] = testdataset[\"Device Used\"].map(du_map)"
      ],
      "execution_count": 23,
      "outputs": [
        {
          "output_type": "stream",
          "name": "stdout",
          "text": [
            "dict_keys(['A', 'B', 'C', 'D', 'E', 'F', 'G', 'H', 'I', 'J'])\n",
            "dict_keys(['F', 'M'])\n",
            "dict_keys(['18-24', '25-34', '35-44', '45-54', '55-64', '<18', '>65'])\n",
            "dict_keys(['Mobile', 'PC/Laptop'])\n"
          ]
        }
      ]
    },
    {
      "cell_type": "markdown",
      "metadata": {
        "id": "vuiViJy-I92g"
      },
      "source": [
        "##Deal with missing data"
      ]
    },
    {
      "cell_type": "code",
      "metadata": {
        "colab": {
          "base_uri": "https://localhost:8080/"
        },
        "id": "RzJwnFxCJATs",
        "outputId": "05476ce8-f467-479e-f532-1a69797f4d86"
      },
      "source": [
        "print(traindataset.isnull().sum())"
      ],
      "execution_count": 24,
      "outputs": [
        {
          "output_type": "stream",
          "name": "stdout",
          "text": [
            "Session Id                       0\n",
            "DateTime                         0\n",
            "User Id                          0\n",
            "Product Type                     0\n",
            "Campaign Id                      0\n",
            "Webpage Id                       0\n",
            "Product Category                 0\n",
            "Advertisment Size           321591\n",
            "User Depth                   15743\n",
            "Internet Browser Id          15743\n",
            "Gender                       15743\n",
            "Age Group                    15743\n",
            "City Size                   107129\n",
            "Device Used                      0\n",
            "Clicked                          0\n",
            "Interested In Cars               0\n",
            "Interested In Food               0\n",
            "Interested In News               0\n",
            "Interested In Technology         0\n",
            "Interested In Medicine           0\n",
            "Interested In Politics           0\n",
            "Interested In Fashion            0\n",
            "Interested In Astronomy          0\n",
            "Interested In Animals            0\n",
            "Interested In Travel             0\n",
            "dtype: int64\n"
          ]
        }
      ]
    },
    {
      "cell_type": "code",
      "metadata": {
        "colab": {
          "base_uri": "https://localhost:8080/"
        },
        "id": "rZsVjhLK3O7J",
        "outputId": "2d224443-630a-4e80-b873-db8584882732"
      },
      "source": [
        "print(testdataset.isnull().sum())"
      ],
      "execution_count": 25,
      "outputs": [
        {
          "output_type": "stream",
          "name": "stdout",
          "text": [
            "Session Id                      0\n",
            "DateTime                        0\n",
            "User Id                         0\n",
            "Product Type                    0\n",
            "Campaign Id                     0\n",
            "Webpage Id                      0\n",
            "Product Category                0\n",
            "Advertisment Size           44263\n",
            "User Depth                   2500\n",
            "Internet Browser Id          2500\n",
            "Gender                       2500\n",
            "Age Group                    2500\n",
            "City Size                   18000\n",
            "Device Used                     0\n",
            "Interested In Cars              0\n",
            "Interested In Food              0\n",
            "Interested In News              0\n",
            "Interested In Technology        0\n",
            "Interested In Medicine          0\n",
            "Interested In Politics          0\n",
            "Interested In Fashion           0\n",
            "Interested In Astronomy         0\n",
            "Interested In Animals           0\n",
            "Interested In Travel            0\n",
            "dtype: int64\n"
          ]
        }
      ]
    },
    {
      "cell_type": "code",
      "metadata": {
        "id": "UljVSwirvTWx"
      },
      "source": [
        "train_dataset = traindataset.drop(['Webpage Id','Campaign Id','User Id', 'DateTime', 'Advertisment Size', 'User Depth', 'Internet Browser Id', 'Gender', 'Age Group', 'City Size', ], axis = 1)\n"
      ],
      "execution_count": 26,
      "outputs": []
    },
    {
      "cell_type": "code",
      "metadata": {
        "id": "sNAz9Y4ivCiR"
      },
      "source": [
        "test_dataset = testdataset.drop(['Webpage Id','Campaign Id','User Id','DateTime', 'Advertisment Size', 'User Depth', 'Internet Browser Id', 'Gender', 'Age Group', 'City Size', ], axis = 1)"
      ],
      "execution_count": 27,
      "outputs": []
    },
    {
      "cell_type": "code",
      "metadata": {
        "colab": {
          "base_uri": "https://localhost:8080/"
        },
        "id": "s6oVuhhSfmML",
        "outputId": "5b399b4c-fe09-42c6-c705-5a0e42cb7685"
      },
      "source": [
        "print(train_dataset.isnull().sum())"
      ],
      "execution_count": 28,
      "outputs": [
        {
          "output_type": "stream",
          "name": "stdout",
          "text": [
            "Session Id                  0\n",
            "Product Type                0\n",
            "Product Category            0\n",
            "Device Used                 0\n",
            "Clicked                     0\n",
            "Interested In Cars          0\n",
            "Interested In Food          0\n",
            "Interested In News          0\n",
            "Interested In Technology    0\n",
            "Interested In Medicine      0\n",
            "Interested In Politics      0\n",
            "Interested In Fashion       0\n",
            "Interested In Astronomy     0\n",
            "Interested In Animals       0\n",
            "Interested In Travel        0\n",
            "dtype: int64\n"
          ]
        }
      ]
    },
    {
      "cell_type": "code",
      "metadata": {
        "colab": {
          "base_uri": "https://localhost:8080/"
        },
        "id": "w8wmDsAcfmmL",
        "outputId": "4eb35e41-e81a-4a85-dad8-51c465342fa5"
      },
      "source": [
        "print(test_dataset.isnull().sum())"
      ],
      "execution_count": 29,
      "outputs": [
        {
          "output_type": "stream",
          "name": "stdout",
          "text": [
            "Session Id                  0\n",
            "Product Type                0\n",
            "Product Category            0\n",
            "Device Used                 0\n",
            "Interested In Cars          0\n",
            "Interested In Food          0\n",
            "Interested In News          0\n",
            "Interested In Technology    0\n",
            "Interested In Medicine      0\n",
            "Interested In Politics      0\n",
            "Interested In Fashion       0\n",
            "Interested In Astronomy     0\n",
            "Interested In Animals       0\n",
            "Interested In Travel        0\n",
            "dtype: int64\n"
          ]
        }
      ]
    },
    {
      "cell_type": "markdown",
      "metadata": {
        "id": "mHve6h0DguiD"
      },
      "source": [
        "##Defining Functions"
      ]
    },
    {
      "cell_type": "code",
      "metadata": {
        "id": "qcCg2EcTfvtT"
      },
      "source": [
        ""
      ],
      "execution_count": 29,
      "outputs": []
    }
  ]
}