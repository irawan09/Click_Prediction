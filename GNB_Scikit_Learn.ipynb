{
  "nbformat": 4,
  "nbformat_minor": 0,
  "metadata": {
    "colab": {
      "name": "GNB_Scikit_Learn.ipynb",
      "provenance": [],
      "collapsed_sections": [
        "cImPrEyMYM7i",
        "T3sZPQ7lYgYF"
<<<<<<< HEAD
      ]
=======
      ],
      "authorship_tag": "ABX9TyNe8Y1tuayheVmS43n3oLt5",
      "include_colab_link": true
>>>>>>> 788808bfbc8d3dc4ff71a4b83c0caccc0c046d11
    },
    "kernelspec": {
      "name": "python3",
      "display_name": "Python 3"
    },
    "language_info": {
      "name": "python"
    }
  },
  "cells": [
    {
      "cell_type": "markdown",
      "metadata": {
<<<<<<< HEAD
=======
        "id": "view-in-github",
        "colab_type": "text"
      },
      "source": [
        "<a href=\"https://colab.research.google.com/github/irawan09/Click_Prediction/blob/master/GNB_Scikit_Learn.ipynb\" target=\"_parent\"><img src=\"https://colab.research.google.com/assets/colab-badge.svg\" alt=\"Open In Colab\"/></a>"
      ]
    },
    {
      "cell_type": "markdown",
      "metadata": {
>>>>>>> 788808bfbc8d3dc4ff71a4b83c0caccc0c046d11
        "id": "MXVDIMBoX9H_"
      },
      "source": [
        "#Gaussian Naive Bayes"
      ]
    },
    {
      "cell_type": "markdown",
      "metadata": {
        "id": "RFYUVFcT0PCc"
      },
      "source": [
        "Naive Bayes algorithm is an algorithm that studies the probability of an object with certain characteristics belonging to a certain group/class. In short, it is a probabilistic classifier."
      ]
    },
    {
      "cell_type": "markdown",
      "metadata": {
        "id": "-fp-Gd4rYFKH"
      },
      "source": [
        "##Importing library"
      ]
    },
    {
      "cell_type": "code",
      "metadata": {
        "colab": {
          "base_uri": "https://localhost:8080/"
        },
        "id": "g_2PpAYQWIWy",
        "outputId": "997fd261-47ec-4a7a-8e52-4968bddc54a3"
      },
      "source": [
        "!pip install heatmapz\n",
        "import pandas as pd\n",
        "import numpy as np\n",
        "import seaborn as sns\n",
        "from heatmap import heatmap, corrplot\n",
        "from sklearn.naive_bayes import GaussianNB\n",
        "from sklearn.metrics import confusion_matrix\n",
        "from sklearn.metrics import classification_report\n",
        "from sklearn.model_selection import train_test_split\n",
        "from sklearn.feature_extraction.text import CountVectorizer"
      ],
      "execution_count": 98,
      "outputs": [
        {
          "output_type": "stream",
          "name": "stdout",
          "text": [
            "Collecting heatmapz\n",
            "  Downloading heatmapz-0.0.4-py3-none-any.whl (5.8 kB)\n",
            "Requirement already satisfied: pandas in /usr/local/lib/python3.7/dist-packages (from heatmapz) (1.1.5)\n",
            "Requirement already satisfied: seaborn in /usr/local/lib/python3.7/dist-packages (from heatmapz) (0.11.2)\n",
            "Requirement already satisfied: matplotlib>=3.0.3 in /usr/local/lib/python3.7/dist-packages (from heatmapz) (3.2.2)\n",
            "Requirement already satisfied: kiwisolver>=1.0.1 in /usr/local/lib/python3.7/dist-packages (from matplotlib>=3.0.3->heatmapz) (1.3.2)\n",
            "Requirement already satisfied: numpy>=1.11 in /usr/local/lib/python3.7/dist-packages (from matplotlib>=3.0.3->heatmapz) (1.19.5)\n",
            "Requirement already satisfied: python-dateutil>=2.1 in /usr/local/lib/python3.7/dist-packages (from matplotlib>=3.0.3->heatmapz) (2.8.2)\n",
            "Requirement already satisfied: pyparsing!=2.0.4,!=2.1.2,!=2.1.6,>=2.0.1 in /usr/local/lib/python3.7/dist-packages (from matplotlib>=3.0.3->heatmapz) (2.4.7)\n",
            "Requirement already satisfied: cycler>=0.10 in /usr/local/lib/python3.7/dist-packages (from matplotlib>=3.0.3->heatmapz) (0.10.0)\n",
            "Requirement already satisfied: six in /usr/local/lib/python3.7/dist-packages (from cycler>=0.10->matplotlib>=3.0.3->heatmapz) (1.15.0)\n",
            "Requirement already satisfied: pytz>=2017.2 in /usr/local/lib/python3.7/dist-packages (from pandas->heatmapz) (2018.9)\n",
            "Requirement already satisfied: scipy>=1.0 in /usr/local/lib/python3.7/dist-packages (from seaborn->heatmapz) (1.4.1)\n",
            "Installing collected packages: heatmapz\n",
            "Successfully installed heatmapz-0.0.4\n"
          ]
        }
      ]
    },
    {
      "cell_type": "markdown",
      "metadata": {
        "id": "cImPrEyMYM7i"
      },
      "source": [
        "##Read dataset"
      ]
    },
    {
      "cell_type": "code",
      "metadata": {
        "colab": {
          "base_uri": "https://localhost:8080/",
          "height": 0
        },
        "id": "PafKgES2Xq30",
        "outputId": "b95e0116-1e0f-44a4-f741-7d7d5d2fff72"
      },
      "source": [
        "train_url = \"https://media.githubusercontent.com/media/irawan09/Click_Prediction/master/train_set.csv\"\n",
        "traindataset=pd.read_csv(train_url)\n",
        "traindataset.head()"
      ],
      "execution_count": 71,
      "outputs": [
        {
          "output_type": "execute_result",
          "data": {
            "text/html": [
              "<div>\n",
              "<style scoped>\n",
              "    .dataframe tbody tr th:only-of-type {\n",
              "        vertical-align: middle;\n",
              "    }\n",
              "\n",
              "    .dataframe tbody tr th {\n",
              "        vertical-align: top;\n",
              "    }\n",
              "\n",
              "    .dataframe thead th {\n",
              "        text-align: right;\n",
              "    }\n",
              "</style>\n",
              "<table border=\"1\" class=\"dataframe\">\n",
              "  <thead>\n",
              "    <tr style=\"text-align: right;\">\n",
              "      <th></th>\n",
              "      <th>Session Id</th>\n",
              "      <th>DateTime</th>\n",
              "      <th>User Id</th>\n",
              "      <th>Product Type</th>\n",
              "      <th>Campaign Id</th>\n",
              "      <th>Webpage Id</th>\n",
              "      <th>Product Category</th>\n",
              "      <th>Advertisment Size</th>\n",
              "      <th>User Depth</th>\n",
              "      <th>Internet Browser Id</th>\n",
              "      <th>Gender</th>\n",
              "      <th>Age Group</th>\n",
              "      <th>City Size</th>\n",
              "      <th>Device Used</th>\n",
              "      <th>Clicked</th>\n",
              "      <th>Interested In Cars</th>\n",
              "      <th>Interested In Food</th>\n",
              "      <th>Interested In News</th>\n",
              "      <th>Interested In Technology</th>\n",
              "      <th>Interested In Medicine</th>\n",
              "      <th>Interested In Politics</th>\n",
              "      <th>Interested In Fashion</th>\n",
              "      <th>Interested In Astronomy</th>\n",
              "      <th>Interested In Animals</th>\n",
              "      <th>Interested In Travel</th>\n",
              "    </tr>\n",
              "  </thead>\n",
              "  <tbody>\n",
              "    <tr>\n",
              "      <th>0</th>\n",
              "      <td>229ac4c2-0ee9-4a3b-b52c-3b20c9d43039</td>\n",
              "      <td>09-04-2021 00:00</td>\n",
              "      <td>858557</td>\n",
              "      <td>C</td>\n",
              "      <td>359520</td>\n",
              "      <td>13787</td>\n",
              "      <td>4</td>\n",
              "      <td>NaN</td>\n",
              "      <td>3.0</td>\n",
              "      <td>10.0</td>\n",
              "      <td>F</td>\n",
              "      <td>45-54</td>\n",
              "      <td>5900000.0</td>\n",
              "      <td>Mobile</td>\n",
              "      <td>No</td>\n",
              "      <td>1</td>\n",
              "      <td>0</td>\n",
              "      <td>1</td>\n",
              "      <td>0</td>\n",
              "      <td>1</td>\n",
              "      <td>0</td>\n",
              "      <td>0</td>\n",
              "      <td>0</td>\n",
              "      <td>1</td>\n",
              "      <td>0</td>\n",
              "    </tr>\n",
              "    <tr>\n",
              "      <th>1</th>\n",
              "      <td>87c0f74a-fa7a-4b3f-bc48-ad1a5f80de2e</td>\n",
              "      <td>09-04-2021 00:00</td>\n",
              "      <td>243253</td>\n",
              "      <td>C</td>\n",
              "      <td>105960</td>\n",
              "      <td>11085</td>\n",
              "      <td>5</td>\n",
              "      <td>NaN</td>\n",
              "      <td>2.0</td>\n",
              "      <td>8.0</td>\n",
              "      <td>F</td>\n",
              "      <td>25-34</td>\n",
              "      <td>NaN</td>\n",
              "      <td>Mobile</td>\n",
              "      <td>No</td>\n",
              "      <td>1</td>\n",
              "      <td>0</td>\n",
              "      <td>1</td>\n",
              "      <td>1</td>\n",
              "      <td>1</td>\n",
              "      <td>0</td>\n",
              "      <td>0</td>\n",
              "      <td>0</td>\n",
              "      <td>1</td>\n",
              "      <td>1</td>\n",
              "    </tr>\n",
              "    <tr>\n",
              "      <th>2</th>\n",
              "      <td>b746f0ad-1aa3-492c-b7fa-5dd95643fb51</td>\n",
              "      <td>09-04-2021 00:00</td>\n",
              "      <td>243253</td>\n",
              "      <td>C</td>\n",
              "      <td>359520</td>\n",
              "      <td>13787</td>\n",
              "      <td>4</td>\n",
              "      <td>NaN</td>\n",
              "      <td>2.0</td>\n",
              "      <td>8.0</td>\n",
              "      <td>F</td>\n",
              "      <td>25-34</td>\n",
              "      <td>NaN</td>\n",
              "      <td>Mobile</td>\n",
              "      <td>No</td>\n",
              "      <td>1</td>\n",
              "      <td>0</td>\n",
              "      <td>0</td>\n",
              "      <td>1</td>\n",
              "      <td>0</td>\n",
              "      <td>0</td>\n",
              "      <td>1</td>\n",
              "      <td>0</td>\n",
              "      <td>0</td>\n",
              "      <td>0</td>\n",
              "    </tr>\n",
              "    <tr>\n",
              "      <th>3</th>\n",
              "      <td>36257832-77d5-4d8d-9abd-25d49dffb20d</td>\n",
              "      <td>09-04-2021 00:00</td>\n",
              "      <td>1097446</td>\n",
              "      <td>I</td>\n",
              "      <td>359520</td>\n",
              "      <td>13787</td>\n",
              "      <td>3</td>\n",
              "      <td>NaN</td>\n",
              "      <td>3.0</td>\n",
              "      <td>3.0</td>\n",
              "      <td>M</td>\n",
              "      <td>35-44</td>\n",
              "      <td>500000.0</td>\n",
              "      <td>PC/Laptop</td>\n",
              "      <td>No</td>\n",
              "      <td>0</td>\n",
              "      <td>1</td>\n",
              "      <td>1</td>\n",
              "      <td>1</td>\n",
              "      <td>0</td>\n",
              "      <td>0</td>\n",
              "      <td>1</td>\n",
              "      <td>0</td>\n",
              "      <td>0</td>\n",
              "      <td>0</td>\n",
              "    </tr>\n",
              "    <tr>\n",
              "      <th>4</th>\n",
              "      <td>df3a66aa-4714-407d-b6fe-49fe03ce8f16</td>\n",
              "      <td>09-04-2021 00:01</td>\n",
              "      <td>663656</td>\n",
              "      <td>C</td>\n",
              "      <td>405490</td>\n",
              "      <td>60305</td>\n",
              "      <td>3</td>\n",
              "      <td>NaN</td>\n",
              "      <td>3.0</td>\n",
              "      <td>2.0</td>\n",
              "      <td>M</td>\n",
              "      <td>25-34</td>\n",
              "      <td>500000.0</td>\n",
              "      <td>PC/Laptop</td>\n",
              "      <td>No</td>\n",
              "      <td>0</td>\n",
              "      <td>1</td>\n",
              "      <td>0</td>\n",
              "      <td>0</td>\n",
              "      <td>0</td>\n",
              "      <td>1</td>\n",
              "      <td>1</td>\n",
              "      <td>1</td>\n",
              "      <td>0</td>\n",
              "      <td>0</td>\n",
              "    </tr>\n",
              "  </tbody>\n",
              "</table>\n",
              "</div>"
            ],
            "text/plain": [
              "                             Session Id  ... Interested In Travel\n",
              "0  229ac4c2-0ee9-4a3b-b52c-3b20c9d43039  ...                    0\n",
              "1  87c0f74a-fa7a-4b3f-bc48-ad1a5f80de2e  ...                    1\n",
              "2  b746f0ad-1aa3-492c-b7fa-5dd95643fb51  ...                    0\n",
              "3  36257832-77d5-4d8d-9abd-25d49dffb20d  ...                    0\n",
              "4  df3a66aa-4714-407d-b6fe-49fe03ce8f16  ...                    0\n",
              "\n",
              "[5 rows x 25 columns]"
            ]
          },
          "metadata": {},
          "execution_count": 71
        }
      ]
    },
    {
      "cell_type": "code",
      "metadata": {
        "colab": {
          "base_uri": "https://localhost:8080/",
          "height": 0
        },
        "id": "RYEgv4hvYXPj",
        "outputId": "6127a550-eeba-45ac-f969-1672c9747503"
      },
      "source": [
        "test_url = \"https://media.githubusercontent.com/media/irawan09/Click_Prediction/master/test_set.csv\"\n",
        "testdataset=pd.read_csv(test_url)\n",
        "testdataset.head()"
      ],
      "execution_count": 72,
      "outputs": [
        {
          "output_type": "execute_result",
          "data": {
            "text/html": [
              "<div>\n",
              "<style scoped>\n",
              "    .dataframe tbody tr th:only-of-type {\n",
              "        vertical-align: middle;\n",
              "    }\n",
              "\n",
              "    .dataframe tbody tr th {\n",
              "        vertical-align: top;\n",
              "    }\n",
              "\n",
              "    .dataframe thead th {\n",
              "        text-align: right;\n",
              "    }\n",
              "</style>\n",
              "<table border=\"1\" class=\"dataframe\">\n",
              "  <thead>\n",
              "    <tr style=\"text-align: right;\">\n",
              "      <th></th>\n",
              "      <th>Session Id</th>\n",
              "      <th>DateTime</th>\n",
              "      <th>User Id</th>\n",
              "      <th>Product Type</th>\n",
              "      <th>Campaign Id</th>\n",
              "      <th>Webpage Id</th>\n",
              "      <th>Product Category</th>\n",
              "      <th>Advertisment Size</th>\n",
              "      <th>User Depth</th>\n",
              "      <th>Internet Browser Id</th>\n",
              "      <th>Gender</th>\n",
              "      <th>Age Group</th>\n",
              "      <th>City Size</th>\n",
              "      <th>Device Used</th>\n",
              "      <th>Interested In Cars</th>\n",
              "      <th>Interested In Food</th>\n",
              "      <th>Interested In News</th>\n",
              "      <th>Interested In Technology</th>\n",
              "      <th>Interested In Medicine</th>\n",
              "      <th>Interested In Politics</th>\n",
              "      <th>Interested In Fashion</th>\n",
              "      <th>Interested In Astronomy</th>\n",
              "      <th>Interested In Animals</th>\n",
              "      <th>Interested In Travel</th>\n",
              "    </tr>\n",
              "  </thead>\n",
              "  <tbody>\n",
              "    <tr>\n",
              "      <th>0</th>\n",
              "      <td>41cb91c7-ec1d-4e71-98fd-9e1c374bd33b</td>\n",
              "      <td>14-04-2021 00:00</td>\n",
              "      <td>262150</td>\n",
              "      <td>C</td>\n",
              "      <td>405490</td>\n",
              "      <td>60305</td>\n",
              "      <td>3</td>\n",
              "      <td>NaN</td>\n",
              "      <td>3.0</td>\n",
              "      <td>2.0</td>\n",
              "      <td>M</td>\n",
              "      <td>25-34</td>\n",
              "      <td>500000.0</td>\n",
              "      <td>PC/Laptop</td>\n",
              "      <td>0</td>\n",
              "      <td>1</td>\n",
              "      <td>0</td>\n",
              "      <td>1</td>\n",
              "      <td>0</td>\n",
              "      <td>1</td>\n",
              "      <td>1</td>\n",
              "      <td>1</td>\n",
              "      <td>0</td>\n",
              "      <td>1</td>\n",
              "    </tr>\n",
              "    <tr>\n",
              "      <th>1</th>\n",
              "      <td>c9d3f8e4-1445-45f2-99db-754bda50766c</td>\n",
              "      <td>14-04-2021 00:00</td>\n",
              "      <td>308173</td>\n",
              "      <td>C</td>\n",
              "      <td>405490</td>\n",
              "      <td>60305</td>\n",
              "      <td>3</td>\n",
              "      <td>NaN</td>\n",
              "      <td>3.0</td>\n",
              "      <td>10.0</td>\n",
              "      <td>F</td>\n",
              "      <td>45-54</td>\n",
              "      <td>500000.0</td>\n",
              "      <td>PC/Laptop</td>\n",
              "      <td>1</td>\n",
              "      <td>1</td>\n",
              "      <td>1</td>\n",
              "      <td>1</td>\n",
              "      <td>0</td>\n",
              "      <td>1</td>\n",
              "      <td>0</td>\n",
              "      <td>0</td>\n",
              "      <td>1</td>\n",
              "      <td>0</td>\n",
              "    </tr>\n",
              "    <tr>\n",
              "      <th>2</th>\n",
              "      <td>f85ffa39-b799-49a1-82b5-2f76a4009212</td>\n",
              "      <td>14-04-2021 00:00</td>\n",
              "      <td>308173</td>\n",
              "      <td>B</td>\n",
              "      <td>118601</td>\n",
              "      <td>28529</td>\n",
              "      <td>4</td>\n",
              "      <td>82527.0</td>\n",
              "      <td>3.0</td>\n",
              "      <td>10.0</td>\n",
              "      <td>F</td>\n",
              "      <td>45-54</td>\n",
              "      <td>500000.0</td>\n",
              "      <td>PC/Laptop</td>\n",
              "      <td>1</td>\n",
              "      <td>0</td>\n",
              "      <td>0</td>\n",
              "      <td>0</td>\n",
              "      <td>1</td>\n",
              "      <td>1</td>\n",
              "      <td>0</td>\n",
              "      <td>1</td>\n",
              "      <td>0</td>\n",
              "      <td>0</td>\n",
              "    </tr>\n",
              "    <tr>\n",
              "      <th>3</th>\n",
              "      <td>49336ffb-a9b7-485c-9891-6274482484e0</td>\n",
              "      <td>14-04-2021 00:00</td>\n",
              "      <td>806073</td>\n",
              "      <td>H</td>\n",
              "      <td>118601</td>\n",
              "      <td>28529</td>\n",
              "      <td>5</td>\n",
              "      <td>82527.0</td>\n",
              "      <td>3.0</td>\n",
              "      <td>3.0</td>\n",
              "      <td>M</td>\n",
              "      <td>35-44</td>\n",
              "      <td>500000.0</td>\n",
              "      <td>Mobile</td>\n",
              "      <td>1</td>\n",
              "      <td>0</td>\n",
              "      <td>1</td>\n",
              "      <td>0</td>\n",
              "      <td>1</td>\n",
              "      <td>1</td>\n",
              "      <td>0</td>\n",
              "      <td>1</td>\n",
              "      <td>1</td>\n",
              "      <td>1</td>\n",
              "    </tr>\n",
              "    <tr>\n",
              "      <th>4</th>\n",
              "      <td>8ea9c920-6686-46f2-acd1-4bf20371c28c</td>\n",
              "      <td>14-04-2021 00:00</td>\n",
              "      <td>796787</td>\n",
              "      <td>E</td>\n",
              "      <td>404347</td>\n",
              "      <td>53587</td>\n",
              "      <td>1</td>\n",
              "      <td>146115.0</td>\n",
              "      <td>1.0</td>\n",
              "      <td>3.0</td>\n",
              "      <td>M</td>\n",
              "      <td>35-44</td>\n",
              "      <td>NaN</td>\n",
              "      <td>Mobile</td>\n",
              "      <td>1</td>\n",
              "      <td>0</td>\n",
              "      <td>1</td>\n",
              "      <td>0</td>\n",
              "      <td>1</td>\n",
              "      <td>1</td>\n",
              "      <td>1</td>\n",
              "      <td>0</td>\n",
              "      <td>1</td>\n",
              "      <td>0</td>\n",
              "    </tr>\n",
              "  </tbody>\n",
              "</table>\n",
              "</div>"
            ],
            "text/plain": [
              "                             Session Id  ... Interested In Travel\n",
              "0  41cb91c7-ec1d-4e71-98fd-9e1c374bd33b  ...                    1\n",
              "1  c9d3f8e4-1445-45f2-99db-754bda50766c  ...                    0\n",
              "2  f85ffa39-b799-49a1-82b5-2f76a4009212  ...                    0\n",
              "3  49336ffb-a9b7-485c-9891-6274482484e0  ...                    1\n",
              "4  8ea9c920-6686-46f2-acd1-4bf20371c28c  ...                    0\n",
              "\n",
              "[5 rows x 24 columns]"
            ]
          },
          "metadata": {},
          "execution_count": 72
        }
      ]
    },
    {
      "cell_type": "markdown",
      "metadata": {
        "id": "T3sZPQ7lYgYF"
      },
      "source": [
        "##Data Preprocesing"
      ]
    },
    {
      "cell_type": "markdown",
      "metadata": {
        "id": "XKyLXj1Z0qtl"
      },
      "source": [
        "Data preprocessing is an initial data mining technique to convert raw data or commonly known as raw data collected from various sources into cleaner information that can be used for further processing. This process can also be called the initial step to retrieve all available information by cleaning, filtering, and combining the data. 3 common problems that are solved in the preprocessing stage are dealing with missing values, noise data, and inconsistent data. Missing value is inaccurate data because missing information makes the information in it irrelevant. Missing value often occurs when there are problems in the collection process, such as errors in data entry or problems in the use of biometrics. Noise data contains erroneous data and outliers that can be found in the data set. These outliers and incorrect data contain meaningless information. Some of the causes of data noise are due to human error in the form of labeling errors and other problems during data collection. Data inconsistency occurs when someone saves a file containing the same data in different formats. Some of the data inconsistencies are duplication in different formats, errors in code names, and so on.\n",
        "\n",
        "Preprocessing data is very important because errors, redundancy, missing values, and inconsistent data lead to reduced accuracy of analysis results. So, before processing the data, we must ensure that the data we will use is \"clean\" data."
      ]
    },
    {
      "cell_type": "code",
      "metadata": {
        "colab": {
          "base_uri": "https://localhost:8080/"
        },
        "id": "IIJ5U5FGYheI",
        "outputId": "252eef12-2a03-4481-f6e9-5a970545f2f6"
      },
      "source": [
        "print (traindataset.groupby('Product Type').groups.keys())\n",
        "pt_map = {\"J\" : 9,\"I\" : 8,\"H\" : 7,\"G\" : 6,\"F\" : 5,\"E\" : 4,\"D\" : 3,\"C\" : 2,\"B\" : 1, \"A\" : 0}\n",
        "traindataset[\"Product Type\"] = traindataset[\"Product Type\"].map(pt_map)\n",
        "\n",
        "print (traindataset.groupby('Gender').groups.keys())\n",
        "s_map = {\"M\" : 1, \"F\" : 0}\n",
        "traindataset[\"Gender\"] = traindataset[\"Gender\"].map(s_map)\n",
        "\n",
        "print (traindataset.groupby('Age Group').groups.keys())\n",
        "g_map = {\">65\" : 6, \"<18\" : 5, \"55-64\" : 4, \"45-54\" : 3, \"35-44\" : 2, \"25-34\" : 1, \"18-24\" : 0}\n",
        "traindataset[\"Age Group\"] = traindataset[\"Age Group\"].map(g_map)\n",
        "\n",
        "\n",
        "print (traindataset.groupby('Device Used').groups.keys())\n",
        "du_map = {\"Mobile\" : 1, \"PC/Laptop\" : 0}\n",
        "traindataset[\"Device Used\"] = traindataset[\"Device Used\"].map(du_map)\n",
        "\n",
        "print (traindataset.groupby('Clicked').groups.keys())\n",
        "c_map = {\"Yes\" : 1, \"No\" : 0}\n",
        "traindataset[\"Clicked\"] = traindataset[\"Clicked\"].map(c_map)"
      ],
      "execution_count": 73,
      "outputs": [
        {
          "output_type": "stream",
          "name": "stdout",
          "text": [
            "dict_keys(['A', 'B', 'C', 'D', 'E', 'F', 'G', 'H', 'I', 'J'])\n",
            "dict_keys(['F', 'M'])\n",
            "dict_keys(['18-24', '25-34', '35-44', '45-54', '55-64', '<18', '>65'])\n",
            "dict_keys(['Mobile', 'PC/Laptop'])\n",
            "dict_keys(['No', 'Yes'])\n"
          ]
        }
      ]
    },
    {
      "cell_type": "code",
      "metadata": {
        "colab": {
          "base_uri": "https://localhost:8080/"
        },
        "id": "gNqckiI0Ymav",
        "outputId": "a4afc1da-e2e3-4115-94a6-452ade3b89ef"
      },
      "source": [
        "print (testdataset.groupby('Product Type').groups.keys())\n",
        "pt_map = {\"J\" : 9,\"I\" : 8,\"H\" : 7,\"G\" : 6,\"F\" : 5,\"E\" : 4,\"D\" : 3,\"C\" : 2,\"B\" : 1, \"A\" : 0}\n",
        "testdataset[\"Product Type\"] = testdataset[\"Product Type\"].map(pt_map)\n",
        "\n",
        "print (testdataset.groupby('Gender').groups.keys())\n",
        "s_map = {\"M\" : 1, \"F\" : 0}\n",
        "testdataset[\"Gender\"] = testdataset[\"Gender\"].map(s_map)\n",
        "\n",
        "print (testdataset.groupby('Age Group').groups.keys())\n",
        "g_map = {\">65\" : 6, \"<18\" : 5, \"55-64\" : 4, \"45-54\" : 3, \"35-44\" : 2, \"25-34\" : 1, \"18-24\" : 0}\n",
        "testdataset[\"Age Group\"] = testdataset[\"Age Group\"].map(g_map)\n",
        "\n",
        "\n",
        "print (testdataset.groupby('Device Used').groups.keys())\n",
        "du_map = {\"Mobile\" : 1, \"PC/Laptop\" : 0}\n",
        "testdataset[\"Device Used\"] = testdataset[\"Device Used\"].map(du_map)"
      ],
      "execution_count": 74,
      "outputs": [
        {
          "output_type": "stream",
          "name": "stdout",
          "text": [
            "dict_keys(['A', 'B', 'C', 'D', 'E', 'F', 'G', 'H', 'I', 'J'])\n",
            "dict_keys(['F', 'M'])\n",
            "dict_keys(['18-24', '25-34', '35-44', '45-54', '55-64', '<18', '>65'])\n",
            "dict_keys(['Mobile', 'PC/Laptop'])\n"
          ]
        }
      ]
    },
    {
      "cell_type": "markdown",
      "metadata": {
        "id": "AdK4BaWuYuJ8"
      },
      "source": [
        "##Deal with missing data"
      ]
    },
    {
      "cell_type": "code",
      "metadata": {
        "colab": {
          "base_uri": "https://localhost:8080/"
        },
        "id": "Uvh8bR9MYqM0",
        "outputId": "f069d8d9-b295-4873-ba02-1787c522ad22"
      },
      "source": [
        "print(traindataset.isnull().sum())"
      ],
      "execution_count": 75,
      "outputs": [
        {
          "output_type": "stream",
          "name": "stdout",
          "text": [
            "Session Id                       0\n",
            "DateTime                         0\n",
            "User Id                          0\n",
            "Product Type                     0\n",
            "Campaign Id                      0\n",
            "Webpage Id                       0\n",
            "Product Category                 0\n",
            "Advertisment Size           321591\n",
            "User Depth                   15743\n",
            "Internet Browser Id          15743\n",
            "Gender                       15743\n",
            "Age Group                    15743\n",
            "City Size                   107129\n",
            "Device Used                      0\n",
            "Clicked                          0\n",
            "Interested In Cars               0\n",
            "Interested In Food               0\n",
            "Interested In News               0\n",
            "Interested In Technology         0\n",
            "Interested In Medicine           0\n",
            "Interested In Politics           0\n",
            "Interested In Fashion            0\n",
            "Interested In Astronomy          0\n",
            "Interested In Animals            0\n",
            "Interested In Travel             0\n",
            "dtype: int64\n"
          ]
        }
      ]
    },
    {
      "cell_type": "code",
      "metadata": {
        "colab": {
          "base_uri": "https://localhost:8080/"
        },
        "id": "8RhVmDMrY03-",
        "outputId": "a641db99-fc54-46a9-91b2-4df95c16ebf9"
      },
      "source": [
        "print(testdataset.isnull().sum())"
      ],
      "execution_count": 76,
      "outputs": [
        {
          "output_type": "stream",
          "name": "stdout",
          "text": [
            "Session Id                      0\n",
            "DateTime                        0\n",
            "User Id                         0\n",
            "Product Type                    0\n",
            "Campaign Id                     0\n",
            "Webpage Id                      0\n",
            "Product Category                0\n",
            "Advertisment Size           44263\n",
            "User Depth                   2500\n",
            "Internet Browser Id          2500\n",
            "Gender                       2500\n",
            "Age Group                    2500\n",
            "City Size                   18000\n",
            "Device Used                     0\n",
            "Interested In Cars              0\n",
            "Interested In Food              0\n",
            "Interested In News              0\n",
            "Interested In Technology        0\n",
            "Interested In Medicine          0\n",
            "Interested In Politics          0\n",
            "Interested In Fashion           0\n",
            "Interested In Astronomy         0\n",
            "Interested In Animals           0\n",
            "Interested In Travel            0\n",
            "dtype: int64\n"
          ]
        }
      ]
    },
    {
      "cell_type": "code",
      "metadata": {
        "id": "FKKWdN2WY3mF"
      },
      "source": [
        "train_dataset = traindataset.drop(['Session Id','Webpage Id','Campaign Id','User Id', 'DateTime', 'Advertisment Size', 'User Depth', 'Internet Browser Id', 'Gender', 'Age Group', 'City Size', ], axis = 1)\n"
      ],
      "execution_count": 77,
      "outputs": []
    },
    {
      "cell_type": "code",
      "metadata": {
        "id": "j1XzrDinZHzo"
      },
      "source": [
        "test_dataset = testdataset.drop(['Session Id','Webpage Id','Campaign Id','User Id', 'DateTime', 'Advertisment Size', 'User Depth', 'Internet Browser Id', 'Gender', 'Age Group', 'City Size' ], axis = 1)\n"
      ],
      "execution_count": 78,
      "outputs": []
    },
    {
      "cell_type": "code",
      "metadata": {
        "colab": {
          "base_uri": "https://localhost:8080/"
        },
        "id": "KxC4vGqzZPBy",
        "outputId": "fcd865a1-bc3c-4ef0-c780-9258606eb96c"
      },
      "source": [
        "print(train_dataset.isnull().sum())"
      ],
      "execution_count": 79,
      "outputs": [
        {
          "output_type": "stream",
          "name": "stdout",
          "text": [
            "Product Type                0\n",
            "Product Category            0\n",
            "Device Used                 0\n",
            "Clicked                     0\n",
            "Interested In Cars          0\n",
            "Interested In Food          0\n",
            "Interested In News          0\n",
            "Interested In Technology    0\n",
            "Interested In Medicine      0\n",
            "Interested In Politics      0\n",
            "Interested In Fashion       0\n",
            "Interested In Astronomy     0\n",
            "Interested In Animals       0\n",
            "Interested In Travel        0\n",
            "dtype: int64\n"
          ]
        }
      ]
    },
    {
      "cell_type": "code",
      "metadata": {
        "colab": {
          "base_uri": "https://localhost:8080/"
        },
        "id": "0ikvLXIMZP5R",
        "outputId": "b8d6d313-21c0-42e9-f596-f66386532287"
      },
      "source": [
        "print(test_dataset.isnull().sum())"
      ],
      "execution_count": 80,
      "outputs": [
        {
          "output_type": "stream",
          "name": "stdout",
          "text": [
            "Product Type                0\n",
            "Product Category            0\n",
            "Device Used                 0\n",
            "Interested In Cars          0\n",
            "Interested In Food          0\n",
            "Interested In News          0\n",
            "Interested In Technology    0\n",
            "Interested In Medicine      0\n",
            "Interested In Politics      0\n",
            "Interested In Fashion       0\n",
            "Interested In Astronomy     0\n",
            "Interested In Animals       0\n",
            "Interested In Travel        0\n",
            "dtype: int64\n"
          ]
        }
      ]
    },
    {
      "cell_type": "markdown",
      "metadata": {
        "id": "WychQHzO3NMQ"
      },
      "source": [
        "##Feature Screening"
      ]
    },
    {
      "cell_type": "markdown",
      "metadata": {
        "id": "Lbm1E1tm43JD"
      },
      "source": [
        "In the correlation test on each feature that has been prepared, it shows that each feature has no correlation with other features, which means that in conclusion each feature is independent. The independent feature is one of the signs that the Gaussian Bayes Network method is very suitable to be applied."
      ]
    },
    {
      "cell_type": "code",
      "metadata": {
        "colab": {
          "base_uri": "https://localhost:8080/",
          "height": 353
        },
        "id": "mxERkvSs3VWh",
        "outputId": "2d82f645-0f2d-4cce-f12b-43ca121b007d"
      },
      "source": [
        "corr_train = train_dataset.corr()\n",
        "ax = sns.heatmap(\n",
        "    corr_train, \n",
        "    vmin=-1, vmax=1, center=0,\n",
        "    cmap=sns.diverging_palette(20, 220, n=200),\n",
        "    square=True\n",
        ")\n",
        "ax.set_xticklabels(\n",
        "    ax.get_xticklabels(),\n",
        "    rotation=45,\n",
        "    horizontalalignment='right'\n",
        ");"
      ],
      "execution_count": 99,
      "outputs": [
        {
          "output_type": "display_data",
          "data": {
            "image/png": "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\n",
            "text/plain": [
              "<Figure size 432x288 with 2 Axes>"
            ]
          },
          "metadata": {
            "needs_background": "light"
          }
        }
      ]
    },
    {
      "cell_type": "code",
      "metadata": {
        "colab": {
          "base_uri": "https://localhost:8080/",
          "height": 353
        },
        "id": "bIceDeyW3pzR",
        "outputId": "6f661ae8-61a9-4147-9998-1c80bb5518d9"
      },
      "source": [
        "corr_test = test_dataset.corr()\n",
        "ax = sns.heatmap(\n",
        "    corr_test, \n",
        "    vmin=-1, vmax=1, center=0,\n",
        "    cmap=sns.diverging_palette(20, 220, n=200),\n",
        "    square=True\n",
        ")\n",
        "ax.set_xticklabels(\n",
        "    ax.get_xticklabels(),\n",
        "    rotation=45,\n",
        "    horizontalalignment='right'\n",
        ");"
      ],
      "execution_count": 100,
      "outputs": [
        {
          "output_type": "display_data",
          "data": {
            "image/png": "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\n",
            "text/plain": [
              "<Figure size 432x288 with 2 Axes>"
            ]
          },
          "metadata": {
            "needs_background": "light"
          }
        }
      ]
    },
    {
      "cell_type": "markdown",
      "metadata": {
        "id": "vjB7Pyb0ZlaN"
      },
      "source": [
        "##Data Training Splitting to evaluate model"
      ]
    },
    {
      "cell_type": "markdown",
      "metadata": {
        "id": "jI0F69Df1Y7n"
      },
      "source": [
        "Train/test split is one method that can be used to evaluate the performance of machine learning models. This model evaluation method divides the dataset into two parts, namely the part used for training data and for testing data with certain proportions.\n",
        "\n",
        "Train data is used to fit the machine learning model, while test data is used to evaluate the fit of the model.\n",
        "Evaluation of machine learning models with train/test splits is suitable for large datasets. As we know, the train/test split divides the dataset into train sets and test sets, or in other words, the data used for the training and testing process are different data sets."
      ]
    },
    {
      "cell_type": "code",
      "metadata": {
        "id": "DdYK0RGdZRzn"
      },
      "source": [
        "x = train_dataset.drop(['Clicked'], axis = 1)\n",
        "y = traindataset['Clicked']\n",
        "\n",
        "x_train, x_test, y_train, y_test = train_test_split(x, y, test_size = 0.2, random_state = 123)"
      ],
      "execution_count": 81,
      "outputs": []
    },
    {
      "cell_type": "markdown",
      "metadata": {
        "id": "d49cxhzZaWSR"
      },
      "source": [
        "##Constructing and Evaluating The Model"
      ]
    },
    {
      "cell_type": "code",
      "metadata": {
        "id": "2AuVerUFaVRq"
      },
      "source": [
        "modelnb = GaussianNB()\n",
        "nbtrain = modelnb.fit(x_train, y_train)"
      ],
      "execution_count": 82,
      "outputs": []
    },
    {
      "cell_type": "code",
      "metadata": {
        "id": "PB-3_btBajSx"
      },
      "source": [
        "y_pred = nbtrain.predict(x_test)"
      ],
      "execution_count": 83,
      "outputs": []
    },
    {
      "cell_type": "code",
      "metadata": {
        "colab": {
          "base_uri": "https://localhost:8080/"
        },
        "id": "ZxwaoddtaqgM",
        "outputId": "a9838ae5-bd6a-47e1-d31e-0adde685bb0a"
      },
      "source": [
        "nbtrain.predict_proba(x_test)"
      ],
      "execution_count": 84,
      "outputs": [
        {
          "output_type": "execute_result",
          "data": {
            "text/plain": [
              "array([[0.9411145 , 0.0588855 ],\n",
              "       [0.92099313, 0.07900687],\n",
              "       [0.93343749, 0.06656251],\n",
              "       ...,\n",
              "       [0.92185245, 0.07814755],\n",
              "       [0.93753854, 0.06246146],\n",
              "       [0.93067429, 0.06932571]])"
            ]
          },
          "metadata": {},
          "execution_count": 84
        }
      ]
    },
    {
      "cell_type": "code",
      "metadata": {
        "colab": {
          "base_uri": "https://localhost:8080/"
        },
        "id": "81I0a3Dma022",
        "outputId": "185686f0-1fc2-4cb7-a9e2-6b9c9bb7652c"
      },
      "source": [
        "print(classification_report(y_test, y_pred))"
      ],
      "execution_count": 85,
      "outputs": [
        {
          "output_type": "stream",
          "name": "stdout",
          "text": [
            "              precision    recall  f1-score   support\n",
            "\n",
            "           0       0.93      1.00      0.96     73008\n",
            "           1       0.00      0.00      0.00      5357\n",
            "\n",
            "    accuracy                           0.93     78365\n",
            "   macro avg       0.47      0.50      0.48     78365\n",
            "weighted avg       0.87      0.93      0.90     78365\n",
            "\n"
          ]
        },
        {
          "output_type": "stream",
          "name": "stderr",
          "text": [
            "/usr/local/lib/python3.7/dist-packages/sklearn/metrics/_classification.py:1272: UndefinedMetricWarning: Precision and F-score are ill-defined and being set to 0.0 in labels with no predicted samples. Use `zero_division` parameter to control this behavior.\n",
            "  _warn_prf(average, modifier, msg_start, len(result))\n"
          ]
        }
      ]
    },
    {
      "cell_type": "markdown",
      "metadata": {
        "id": "RC_Oe8iK1f9y"
      },
      "source": [
        "**Accuracy**\n",
        "is the ratio of True (positive and negative) predictions to the overall data.\n",
        "\n",
        "**Precision**\n",
        "is the ratio of positive true predictions compared to the overall positive predicted outcome.\n",
        "\n",
        "**Recall (Sensitivity)**\n",
        "is the ratio of true positive predictions compared to the total number of true positive data.\n",
        "\n",
        "**Specificity**\n",
        "It is the correctness of predicting negative compared to the overall negative data.\n",
        "\n",
        "**F1 Score**\n",
        "is a weighted comparison of the average precision and recall"
      ]
    },
    {
      "cell_type": "markdown",
      "metadata": {
        "id": "913jtcE5bbZn"
      },
      "source": [
        "##Predicting The Test data File and Construct The Result"
      ]
    },
    {
      "cell_type": "code",
      "metadata": {
        "colab": {
          "base_uri": "https://localhost:8080/"
        },
        "id": "MkLV_n3XbBoU",
        "outputId": "58f83872-6b05-4866-e66d-24cbf10aee00"
      },
      "source": [
        "print(\"Number of rows test dataset file :\", testdataset[data_test.columns[0]].count())"
      ],
      "execution_count": 86,
      "outputs": [
        {
          "output_type": "stream",
          "name": "stdout",
          "text": [
            "Number of rows test dataset file : 71466\n"
          ]
        }
      ]
    },
    {
      "cell_type": "code",
      "metadata": {
        "colab": {
          "base_uri": "https://localhost:8080/",
          "height": 332
        },
        "id": "03quSbZNmAfF",
        "outputId": "01efdb7d-f941-4db2-e2cf-47bf5aeb081e"
      },
      "source": [
        "testdataset.head(3)"
      ],
      "execution_count": 87,
      "outputs": [
        {
          "output_type": "execute_result",
          "data": {
            "text/html": [
              "<div>\n",
              "<style scoped>\n",
              "    .dataframe tbody tr th:only-of-type {\n",
              "        vertical-align: middle;\n",
              "    }\n",
              "\n",
              "    .dataframe tbody tr th {\n",
              "        vertical-align: top;\n",
              "    }\n",
              "\n",
              "    .dataframe thead th {\n",
              "        text-align: right;\n",
              "    }\n",
              "</style>\n",
              "<table border=\"1\" class=\"dataframe\">\n",
              "  <thead>\n",
              "    <tr style=\"text-align: right;\">\n",
              "      <th></th>\n",
              "      <th>Session Id</th>\n",
              "      <th>DateTime</th>\n",
              "      <th>User Id</th>\n",
              "      <th>Product Type</th>\n",
              "      <th>Campaign Id</th>\n",
              "      <th>Webpage Id</th>\n",
              "      <th>Product Category</th>\n",
              "      <th>Advertisment Size</th>\n",
              "      <th>User Depth</th>\n",
              "      <th>Internet Browser Id</th>\n",
              "      <th>Gender</th>\n",
              "      <th>Age Group</th>\n",
              "      <th>City Size</th>\n",
              "      <th>Device Used</th>\n",
              "      <th>Interested In Cars</th>\n",
              "      <th>Interested In Food</th>\n",
              "      <th>Interested In News</th>\n",
              "      <th>Interested In Technology</th>\n",
              "      <th>Interested In Medicine</th>\n",
              "      <th>Interested In Politics</th>\n",
              "      <th>Interested In Fashion</th>\n",
              "      <th>Interested In Astronomy</th>\n",
              "      <th>Interested In Animals</th>\n",
              "      <th>Interested In Travel</th>\n",
              "    </tr>\n",
              "  </thead>\n",
              "  <tbody>\n",
              "    <tr>\n",
              "      <th>0</th>\n",
              "      <td>41cb91c7-ec1d-4e71-98fd-9e1c374bd33b</td>\n",
              "      <td>14-04-2021 00:00</td>\n",
              "      <td>262150</td>\n",
              "      <td>2</td>\n",
              "      <td>405490</td>\n",
              "      <td>60305</td>\n",
              "      <td>3</td>\n",
              "      <td>NaN</td>\n",
              "      <td>3.0</td>\n",
              "      <td>2.0</td>\n",
              "      <td>1.0</td>\n",
              "      <td>1.0</td>\n",
              "      <td>500000.0</td>\n",
              "      <td>0</td>\n",
              "      <td>0</td>\n",
              "      <td>1</td>\n",
              "      <td>0</td>\n",
              "      <td>1</td>\n",
              "      <td>0</td>\n",
              "      <td>1</td>\n",
              "      <td>1</td>\n",
              "      <td>1</td>\n",
              "      <td>0</td>\n",
              "      <td>1</td>\n",
              "    </tr>\n",
              "    <tr>\n",
              "      <th>1</th>\n",
              "      <td>c9d3f8e4-1445-45f2-99db-754bda50766c</td>\n",
              "      <td>14-04-2021 00:00</td>\n",
              "      <td>308173</td>\n",
              "      <td>2</td>\n",
              "      <td>405490</td>\n",
              "      <td>60305</td>\n",
              "      <td>3</td>\n",
              "      <td>NaN</td>\n",
              "      <td>3.0</td>\n",
              "      <td>10.0</td>\n",
              "      <td>0.0</td>\n",
              "      <td>3.0</td>\n",
              "      <td>500000.0</td>\n",
              "      <td>0</td>\n",
              "      <td>1</td>\n",
              "      <td>1</td>\n",
              "      <td>1</td>\n",
              "      <td>1</td>\n",
              "      <td>0</td>\n",
              "      <td>1</td>\n",
              "      <td>0</td>\n",
              "      <td>0</td>\n",
              "      <td>1</td>\n",
              "      <td>0</td>\n",
              "    </tr>\n",
              "    <tr>\n",
              "      <th>2</th>\n",
              "      <td>f85ffa39-b799-49a1-82b5-2f76a4009212</td>\n",
              "      <td>14-04-2021 00:00</td>\n",
              "      <td>308173</td>\n",
              "      <td>1</td>\n",
              "      <td>118601</td>\n",
              "      <td>28529</td>\n",
              "      <td>4</td>\n",
              "      <td>82527.0</td>\n",
              "      <td>3.0</td>\n",
              "      <td>10.0</td>\n",
              "      <td>0.0</td>\n",
              "      <td>3.0</td>\n",
              "      <td>500000.0</td>\n",
              "      <td>0</td>\n",
              "      <td>1</td>\n",
              "      <td>0</td>\n",
              "      <td>0</td>\n",
              "      <td>0</td>\n",
              "      <td>1</td>\n",
              "      <td>1</td>\n",
              "      <td>0</td>\n",
              "      <td>1</td>\n",
              "      <td>0</td>\n",
              "      <td>0</td>\n",
              "    </tr>\n",
              "  </tbody>\n",
              "</table>\n",
              "</div>"
            ],
            "text/plain": [
              "                             Session Id  ... Interested In Travel\n",
              "0  41cb91c7-ec1d-4e71-98fd-9e1c374bd33b  ...                    1\n",
              "1  c9d3f8e4-1445-45f2-99db-754bda50766c  ...                    0\n",
              "2  f85ffa39-b799-49a1-82b5-2f76a4009212  ...                    0\n",
              "\n",
              "[3 rows x 24 columns]"
            ]
          },
          "metadata": {},
          "execution_count": 87
        }
      ]
    },
    {
      "cell_type": "code",
      "metadata": {
        "id": "dUdq2CTfuUPy"
      },
      "source": [
        "new_dataset = traindataset.iloc[:300000]\n",
        "new_dataset_ = new_dataset.drop(['Clicked'], axis = 1)"
      ],
      "execution_count": 88,
      "outputs": []
    },
    {
      "cell_type": "code",
      "metadata": {
        "colab": {
          "base_uri": "https://localhost:8080/"
        },
        "id": "mRmYSYsdv0Be",
        "outputId": "bd0734b3-dd2f-4724-8064-4bf294b94a7e"
      },
      "source": [
        "print(\"Number of rows new dataset file :\", new_dataset_[new_dataset_.columns[0]].count())"
      ],
      "execution_count": 89,
      "outputs": [
        {
          "output_type": "stream",
          "name": "stdout",
          "text": [
            "Number of rows new dataset file : 300000\n"
          ]
        }
      ]
    },
    {
      "cell_type": "code",
      "metadata": {
        "colab": {
          "base_uri": "https://localhost:8080/",
          "height": 349
        },
        "id": "mo-U8CFuwJFz",
        "outputId": "90832fb1-d6f1-4e5b-c950-d4e60f072aba"
      },
      "source": [
        "new_dataset_.head(3)"
      ],
      "execution_count": 90,
      "outputs": [
        {
          "output_type": "execute_result",
          "data": {
            "text/html": [
              "<div>\n",
              "<style scoped>\n",
              "    .dataframe tbody tr th:only-of-type {\n",
              "        vertical-align: middle;\n",
              "    }\n",
              "\n",
              "    .dataframe tbody tr th {\n",
              "        vertical-align: top;\n",
              "    }\n",
              "\n",
              "    .dataframe thead th {\n",
              "        text-align: right;\n",
              "    }\n",
              "</style>\n",
              "<table border=\"1\" class=\"dataframe\">\n",
              "  <thead>\n",
              "    <tr style=\"text-align: right;\">\n",
              "      <th></th>\n",
              "      <th>Session Id</th>\n",
              "      <th>DateTime</th>\n",
              "      <th>User Id</th>\n",
              "      <th>Product Type</th>\n",
              "      <th>Campaign Id</th>\n",
              "      <th>Webpage Id</th>\n",
              "      <th>Product Category</th>\n",
              "      <th>Advertisment Size</th>\n",
              "      <th>User Depth</th>\n",
              "      <th>Internet Browser Id</th>\n",
              "      <th>Gender</th>\n",
              "      <th>Age Group</th>\n",
              "      <th>City Size</th>\n",
              "      <th>Device Used</th>\n",
              "      <th>Interested In Cars</th>\n",
              "      <th>Interested In Food</th>\n",
              "      <th>Interested In News</th>\n",
              "      <th>Interested In Technology</th>\n",
              "      <th>Interested In Medicine</th>\n",
              "      <th>Interested In Politics</th>\n",
              "      <th>Interested In Fashion</th>\n",
              "      <th>Interested In Astronomy</th>\n",
              "      <th>Interested In Animals</th>\n",
              "      <th>Interested In Travel</th>\n",
              "    </tr>\n",
              "  </thead>\n",
              "  <tbody>\n",
              "    <tr>\n",
              "      <th>0</th>\n",
              "      <td>229ac4c2-0ee9-4a3b-b52c-3b20c9d43039</td>\n",
              "      <td>09-04-2021 00:00</td>\n",
              "      <td>858557</td>\n",
              "      <td>2</td>\n",
              "      <td>359520</td>\n",
              "      <td>13787</td>\n",
              "      <td>4</td>\n",
              "      <td>NaN</td>\n",
              "      <td>3.0</td>\n",
              "      <td>10.0</td>\n",
              "      <td>0.0</td>\n",
              "      <td>3.0</td>\n",
              "      <td>5900000.0</td>\n",
              "      <td>1</td>\n",
              "      <td>1</td>\n",
              "      <td>0</td>\n",
              "      <td>1</td>\n",
              "      <td>0</td>\n",
              "      <td>1</td>\n",
              "      <td>0</td>\n",
              "      <td>0</td>\n",
              "      <td>0</td>\n",
              "      <td>1</td>\n",
              "      <td>0</td>\n",
              "    </tr>\n",
              "    <tr>\n",
              "      <th>1</th>\n",
              "      <td>87c0f74a-fa7a-4b3f-bc48-ad1a5f80de2e</td>\n",
              "      <td>09-04-2021 00:00</td>\n",
              "      <td>243253</td>\n",
              "      <td>2</td>\n",
              "      <td>105960</td>\n",
              "      <td>11085</td>\n",
              "      <td>5</td>\n",
              "      <td>NaN</td>\n",
              "      <td>2.0</td>\n",
              "      <td>8.0</td>\n",
              "      <td>0.0</td>\n",
              "      <td>1.0</td>\n",
              "      <td>NaN</td>\n",
              "      <td>1</td>\n",
              "      <td>1</td>\n",
              "      <td>0</td>\n",
              "      <td>1</td>\n",
              "      <td>1</td>\n",
              "      <td>1</td>\n",
              "      <td>0</td>\n",
              "      <td>0</td>\n",
              "      <td>0</td>\n",
              "      <td>1</td>\n",
              "      <td>1</td>\n",
              "    </tr>\n",
              "    <tr>\n",
              "      <th>2</th>\n",
              "      <td>b746f0ad-1aa3-492c-b7fa-5dd95643fb51</td>\n",
              "      <td>09-04-2021 00:00</td>\n",
              "      <td>243253</td>\n",
              "      <td>2</td>\n",
              "      <td>359520</td>\n",
              "      <td>13787</td>\n",
              "      <td>4</td>\n",
              "      <td>NaN</td>\n",
              "      <td>2.0</td>\n",
              "      <td>8.0</td>\n",
              "      <td>0.0</td>\n",
              "      <td>1.0</td>\n",
              "      <td>NaN</td>\n",
              "      <td>1</td>\n",
              "      <td>1</td>\n",
              "      <td>0</td>\n",
              "      <td>0</td>\n",
              "      <td>1</td>\n",
              "      <td>0</td>\n",
              "      <td>0</td>\n",
              "      <td>1</td>\n",
              "      <td>0</td>\n",
              "      <td>0</td>\n",
              "      <td>0</td>\n",
              "    </tr>\n",
              "  </tbody>\n",
              "</table>\n",
              "</div>"
            ],
            "text/plain": [
              "                             Session Id  ... Interested In Travel\n",
              "0  229ac4c2-0ee9-4a3b-b52c-3b20c9d43039  ...                    0\n",
              "1  87c0f74a-fa7a-4b3f-bc48-ad1a5f80de2e  ...                    1\n",
              "2  b746f0ad-1aa3-492c-b7fa-5dd95643fb51  ...                    0\n",
              "\n",
              "[3 rows x 24 columns]"
            ]
          },
          "metadata": {},
          "execution_count": 90
        }
      ]
    },
    {
      "cell_type": "code",
      "metadata": {
        "colab": {
          "base_uri": "https://localhost:8080/"
        },
        "id": "2vjOEPhqmK9-",
        "outputId": "bce96311-bebc-492b-dc16-402de32a048f"
      },
      "source": [
        "result = pd.concat([testdataset, new_dataset_])\n",
        "\n",
        "print(\"Number of rows both of test dataset :\", result[result.columns[0]].count())"
      ],
      "execution_count": 91,
      "outputs": [
        {
          "output_type": "stream",
          "name": "stdout",
          "text": [
            "Number of rows both of test dataset : 371466\n"
          ]
        }
      ]
    },
    {
      "cell_type": "code",
      "metadata": {
        "colab": {
          "base_uri": "https://localhost:8080/",
          "height": 332
        },
        "id": "3DU0C-4kxd8N",
        "outputId": "8dca62f0-d712-4471-fc29-73aaead860b8"
      },
      "source": [
        "result.head(3)"
      ],
      "execution_count": 92,
      "outputs": [
        {
          "output_type": "execute_result",
          "data": {
            "text/html": [
              "<div>\n",
              "<style scoped>\n",
              "    .dataframe tbody tr th:only-of-type {\n",
              "        vertical-align: middle;\n",
              "    }\n",
              "\n",
              "    .dataframe tbody tr th {\n",
              "        vertical-align: top;\n",
              "    }\n",
              "\n",
              "    .dataframe thead th {\n",
              "        text-align: right;\n",
              "    }\n",
              "</style>\n",
              "<table border=\"1\" class=\"dataframe\">\n",
              "  <thead>\n",
              "    <tr style=\"text-align: right;\">\n",
              "      <th></th>\n",
              "      <th>Session Id</th>\n",
              "      <th>DateTime</th>\n",
              "      <th>User Id</th>\n",
              "      <th>Product Type</th>\n",
              "      <th>Campaign Id</th>\n",
              "      <th>Webpage Id</th>\n",
              "      <th>Product Category</th>\n",
              "      <th>Advertisment Size</th>\n",
              "      <th>User Depth</th>\n",
              "      <th>Internet Browser Id</th>\n",
              "      <th>Gender</th>\n",
              "      <th>Age Group</th>\n",
              "      <th>City Size</th>\n",
              "      <th>Device Used</th>\n",
              "      <th>Interested In Cars</th>\n",
              "      <th>Interested In Food</th>\n",
              "      <th>Interested In News</th>\n",
              "      <th>Interested In Technology</th>\n",
              "      <th>Interested In Medicine</th>\n",
              "      <th>Interested In Politics</th>\n",
              "      <th>Interested In Fashion</th>\n",
              "      <th>Interested In Astronomy</th>\n",
              "      <th>Interested In Animals</th>\n",
              "      <th>Interested In Travel</th>\n",
              "    </tr>\n",
              "  </thead>\n",
              "  <tbody>\n",
              "    <tr>\n",
              "      <th>0</th>\n",
              "      <td>41cb91c7-ec1d-4e71-98fd-9e1c374bd33b</td>\n",
              "      <td>14-04-2021 00:00</td>\n",
              "      <td>262150</td>\n",
              "      <td>2</td>\n",
              "      <td>405490</td>\n",
              "      <td>60305</td>\n",
              "      <td>3</td>\n",
              "      <td>NaN</td>\n",
              "      <td>3.0</td>\n",
              "      <td>2.0</td>\n",
              "      <td>1.0</td>\n",
              "      <td>1.0</td>\n",
              "      <td>500000.0</td>\n",
              "      <td>0</td>\n",
              "      <td>0</td>\n",
              "      <td>1</td>\n",
              "      <td>0</td>\n",
              "      <td>1</td>\n",
              "      <td>0</td>\n",
              "      <td>1</td>\n",
              "      <td>1</td>\n",
              "      <td>1</td>\n",
              "      <td>0</td>\n",
              "      <td>1</td>\n",
              "    </tr>\n",
              "    <tr>\n",
              "      <th>1</th>\n",
              "      <td>c9d3f8e4-1445-45f2-99db-754bda50766c</td>\n",
              "      <td>14-04-2021 00:00</td>\n",
              "      <td>308173</td>\n",
              "      <td>2</td>\n",
              "      <td>405490</td>\n",
              "      <td>60305</td>\n",
              "      <td>3</td>\n",
              "      <td>NaN</td>\n",
              "      <td>3.0</td>\n",
              "      <td>10.0</td>\n",
              "      <td>0.0</td>\n",
              "      <td>3.0</td>\n",
              "      <td>500000.0</td>\n",
              "      <td>0</td>\n",
              "      <td>1</td>\n",
              "      <td>1</td>\n",
              "      <td>1</td>\n",
              "      <td>1</td>\n",
              "      <td>0</td>\n",
              "      <td>1</td>\n",
              "      <td>0</td>\n",
              "      <td>0</td>\n",
              "      <td>1</td>\n",
              "      <td>0</td>\n",
              "    </tr>\n",
              "    <tr>\n",
              "      <th>2</th>\n",
              "      <td>f85ffa39-b799-49a1-82b5-2f76a4009212</td>\n",
              "      <td>14-04-2021 00:00</td>\n",
              "      <td>308173</td>\n",
              "      <td>1</td>\n",
              "      <td>118601</td>\n",
              "      <td>28529</td>\n",
              "      <td>4</td>\n",
              "      <td>82527.0</td>\n",
              "      <td>3.0</td>\n",
              "      <td>10.0</td>\n",
              "      <td>0.0</td>\n",
              "      <td>3.0</td>\n",
              "      <td>500000.0</td>\n",
              "      <td>0</td>\n",
              "      <td>1</td>\n",
              "      <td>0</td>\n",
              "      <td>0</td>\n",
              "      <td>0</td>\n",
              "      <td>1</td>\n",
              "      <td>1</td>\n",
              "      <td>0</td>\n",
              "      <td>1</td>\n",
              "      <td>0</td>\n",
              "      <td>0</td>\n",
              "    </tr>\n",
              "  </tbody>\n",
              "</table>\n",
              "</div>"
            ],
            "text/plain": [
              "                             Session Id  ... Interested In Travel\n",
              "0  41cb91c7-ec1d-4e71-98fd-9e1c374bd33b  ...                    1\n",
              "1  c9d3f8e4-1445-45f2-99db-754bda50766c  ...                    0\n",
              "2  f85ffa39-b799-49a1-82b5-2f76a4009212  ...                    0\n",
              "\n",
              "[3 rows x 24 columns]"
            ]
          },
          "metadata": {},
          "execution_count": 92
        }
      ]
    },
    {
      "cell_type": "code",
      "metadata": {
        "id": "B0D-uv-DwjZB"
      },
      "source": [
        "prob_dataset = result.drop(['Session Id','Webpage Id','Campaign Id','User Id', 'DateTime', 'Advertisment Size', 'User Depth', 'Internet Browser Id', 'Gender', 'Age Group', 'City Size',], axis = 1)"
      ],
      "execution_count": 93,
      "outputs": []
    },
    {
      "cell_type": "code",
      "metadata": {
        "colab": {
          "base_uri": "https://localhost:8080/",
          "height": 165
        },
        "id": "Z-KWny6Kx0ow",
        "outputId": "dc1fb948-0c1d-484a-ea31-53bfe5160238"
      },
      "source": [
        "prob_dataset.head(2)"
      ],
      "execution_count": 94,
      "outputs": [
        {
          "output_type": "execute_result",
          "data": {
            "text/html": [
              "<div>\n",
              "<style scoped>\n",
              "    .dataframe tbody tr th:only-of-type {\n",
              "        vertical-align: middle;\n",
              "    }\n",
              "\n",
              "    .dataframe tbody tr th {\n",
              "        vertical-align: top;\n",
              "    }\n",
              "\n",
              "    .dataframe thead th {\n",
              "        text-align: right;\n",
              "    }\n",
              "</style>\n",
              "<table border=\"1\" class=\"dataframe\">\n",
              "  <thead>\n",
              "    <tr style=\"text-align: right;\">\n",
              "      <th></th>\n",
              "      <th>Product Type</th>\n",
              "      <th>Product Category</th>\n",
              "      <th>Device Used</th>\n",
              "      <th>Interested In Cars</th>\n",
              "      <th>Interested In Food</th>\n",
              "      <th>Interested In News</th>\n",
              "      <th>Interested In Technology</th>\n",
              "      <th>Interested In Medicine</th>\n",
              "      <th>Interested In Politics</th>\n",
              "      <th>Interested In Fashion</th>\n",
              "      <th>Interested In Astronomy</th>\n",
              "      <th>Interested In Animals</th>\n",
              "      <th>Interested In Travel</th>\n",
              "    </tr>\n",
              "  </thead>\n",
              "  <tbody>\n",
              "    <tr>\n",
              "      <th>0</th>\n",
              "      <td>2</td>\n",
              "      <td>3</td>\n",
              "      <td>0</td>\n",
              "      <td>0</td>\n",
              "      <td>1</td>\n",
              "      <td>0</td>\n",
              "      <td>1</td>\n",
              "      <td>0</td>\n",
              "      <td>1</td>\n",
              "      <td>1</td>\n",
              "      <td>1</td>\n",
              "      <td>0</td>\n",
              "      <td>1</td>\n",
              "    </tr>\n",
              "    <tr>\n",
              "      <th>1</th>\n",
              "      <td>2</td>\n",
              "      <td>3</td>\n",
              "      <td>0</td>\n",
              "      <td>1</td>\n",
              "      <td>1</td>\n",
              "      <td>1</td>\n",
              "      <td>1</td>\n",
              "      <td>0</td>\n",
              "      <td>1</td>\n",
              "      <td>0</td>\n",
              "      <td>0</td>\n",
              "      <td>1</td>\n",
              "      <td>0</td>\n",
              "    </tr>\n",
              "  </tbody>\n",
              "</table>\n",
              "</div>"
            ],
            "text/plain": [
              "   Product Type  Product Category  ...  Interested In Animals  Interested In Travel\n",
              "0             2                 3  ...                      0                     1\n",
              "1             2                 3  ...                      1                     0\n",
              "\n",
              "[2 rows x 13 columns]"
            ]
          },
          "metadata": {},
          "execution_count": 94
        }
      ]
    },
    {
      "cell_type": "code",
      "metadata": {
        "colab": {
          "base_uri": "https://localhost:8080/",
          "height": 204
        },
        "id": "7x6y69P4lZHo",
        "outputId": "5cd24248-98bf-4334-daee-526ed54e0c6c"
      },
      "source": [
        "probas = nbtrain.predict_proba(prob_dataset)\n",
        "prob_list=[]\n",
        "\n",
        "for i in range(len(probas)):\n",
        "  maxProbas = np.amax(probas[i])\n",
        "  prob_list.insert(i, maxProbas)\n",
        "  \n",
        "list_of_session_id = result['Session Id'].to_list()\n",
        "dataset_result = pd.DataFrame(\n",
        "    {'Session Id': list_of_session_id,\n",
        "     'Probability': prob_list\n",
        "    })\n",
        "\n",
        "dataset_result.head()\n"
      ],
      "execution_count": 95,
      "outputs": [
        {
          "output_type": "execute_result",
          "data": {
            "text/html": [
              "<div>\n",
              "<style scoped>\n",
              "    .dataframe tbody tr th:only-of-type {\n",
              "        vertical-align: middle;\n",
              "    }\n",
              "\n",
              "    .dataframe tbody tr th {\n",
              "        vertical-align: top;\n",
              "    }\n",
              "\n",
              "    .dataframe thead th {\n",
              "        text-align: right;\n",
              "    }\n",
              "</style>\n",
              "<table border=\"1\" class=\"dataframe\">\n",
              "  <thead>\n",
              "    <tr style=\"text-align: right;\">\n",
              "      <th></th>\n",
              "      <th>Session Id</th>\n",
              "      <th>Probability</th>\n",
              "    </tr>\n",
              "  </thead>\n",
              "  <tbody>\n",
              "    <tr>\n",
              "      <th>0</th>\n",
              "      <td>41cb91c7-ec1d-4e71-98fd-9e1c374bd33b</td>\n",
              "      <td>0.923655</td>\n",
              "    </tr>\n",
              "    <tr>\n",
              "      <th>1</th>\n",
              "      <td>c9d3f8e4-1445-45f2-99db-754bda50766c</td>\n",
              "      <td>0.928902</td>\n",
              "    </tr>\n",
              "    <tr>\n",
              "      <th>2</th>\n",
              "      <td>f85ffa39-b799-49a1-82b5-2f76a4009212</td>\n",
              "      <td>0.932182</td>\n",
              "    </tr>\n",
              "    <tr>\n",
              "      <th>3</th>\n",
              "      <td>49336ffb-a9b7-485c-9891-6274482484e0</td>\n",
              "      <td>0.942299</td>\n",
              "    </tr>\n",
              "    <tr>\n",
              "      <th>4</th>\n",
              "      <td>8ea9c920-6686-46f2-acd1-4bf20371c28c</td>\n",
              "      <td>0.932916</td>\n",
              "    </tr>\n",
              "  </tbody>\n",
              "</table>\n",
              "</div>"
            ],
            "text/plain": [
              "                             Session Id  Probability\n",
              "0  41cb91c7-ec1d-4e71-98fd-9e1c374bd33b     0.923655\n",
              "1  c9d3f8e4-1445-45f2-99db-754bda50766c     0.928902\n",
              "2  f85ffa39-b799-49a1-82b5-2f76a4009212     0.932182\n",
              "3  49336ffb-a9b7-485c-9891-6274482484e0     0.942299\n",
              "4  8ea9c920-6686-46f2-acd1-4bf20371c28c     0.932916"
            ]
          },
          "metadata": {},
          "execution_count": 95
        }
      ]
    },
    {
      "cell_type": "code",
      "metadata": {
        "colab": {
          "base_uri": "https://localhost:8080/"
        },
        "id": "4m5ul_hjoC0A",
        "outputId": "0251d504-59f7-4a0c-ffee-9435af1ca181"
      },
      "source": [
        "print(\"Number of rows dataset result :\", dataset_result[dataset_result.columns[0]].count())"
      ],
      "execution_count": 96,
      "outputs": [
        {
          "output_type": "stream",
          "name": "stdout",
          "text": [
            "Number of rows dataset result : 371466\n"
          ]
        }
      ]
    },
    {
      "cell_type": "code",
      "metadata": {
        "id": "MG8bWI3HzRLu"
      },
      "source": [
        "dataset_result.to_csv('result.csv', index=False, encoding='utf-8')"
      ],
      "execution_count": 97,
      "outputs": []
    }
  ]
}