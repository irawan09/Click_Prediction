{
  "nbformat": 4,
  "nbformat_minor": 0,
  "metadata": {
    "colab": {
      "name": "GNB_Scikit_Learn.ipynb",
      "provenance": [],
      "collapsed_sections": [
        "-fp-Gd4rYFKH",
        "cImPrEyMYM7i",
        "AdK4BaWuYuJ8"
      ],
      "authorship_tag": "ABX9TyNKUM4wZVrkdA1nALv8V0lQ",
      "include_colab_link": true
    },
    "kernelspec": {
      "name": "python3",
      "display_name": "Python 3"
    },
    "language_info": {
      "name": "python"
    }
  },
  "cells": [
    {
      "cell_type": "markdown",
      "metadata": {
        "id": "view-in-github",
        "colab_type": "text"
      },
      "source": [
        "<a href=\"https://colab.research.google.com/github/irawan09/Click_Prediction/blob/master/GNB_Scikit_Learn.ipynb\" target=\"_parent\"><img src=\"https://colab.research.google.com/assets/colab-badge.svg\" alt=\"Open In Colab\"/></a>"
      ]
    },
    {
      "cell_type": "markdown",
      "metadata": {
        "id": "MXVDIMBoX9H_"
      },
      "source": [
        "#Gaussian Naive Bayes"
      ]
    },
    {
      "cell_type": "markdown",
      "metadata": {
        "id": "RFYUVFcT0PCc"
      },
      "source": [
        "Naive Bayes algorithm is an algorithm that studies the probability of an object with certain characteristics belonging to a certain group/class. In short, it is a probabilistic classifier."
      ]
    },
    {
      "cell_type": "markdown",
      "metadata": {
        "id": "-fp-Gd4rYFKH"
      },
      "source": [
        "##Importing library"
      ]
    },
    {
      "cell_type": "code",
      "metadata": {
        "id": "g_2PpAYQWIWy"
      },
      "source": [
        "import pandas as pd\n",
        "import numpy as np\n",
        "from math import sqrt\n",
        "from math import pi\n",
        "from math import exp\n",
        "from sklearn.naive_bayes import GaussianNB\n",
        "from sklearn.metrics import confusion_matrix\n",
        "from sklearn.metrics import classification_report\n",
        "from sklearn.model_selection import train_test_split\n",
        "from sklearn.feature_extraction.text import CountVectorizer"
      ],
      "execution_count": 70,
      "outputs": []
    },
    {
      "cell_type": "markdown",
      "metadata": {
        "id": "cImPrEyMYM7i"
      },
      "source": [
        "##Read dataset"
      ]
    },
    {
      "cell_type": "code",
      "metadata": {
        "colab": {
          "base_uri": "https://localhost:8080/",
          "height": 0
        },
        "id": "PafKgES2Xq30",
        "outputId": "b95e0116-1e0f-44a4-f741-7d7d5d2fff72"
      },
      "source": [
        "train_url = \"https://media.githubusercontent.com/media/irawan09/Click_Prediction/master/train_set.csv\"\n",
        "traindataset=pd.read_csv(train_url)\n",
        "traindataset.head()"
      ],
      "execution_count": 71,
      "outputs": [
        {
          "output_type": "execute_result",
          "data": {
            "text/html": [
              "<div>\n",
              "<style scoped>\n",
              "    .dataframe tbody tr th:only-of-type {\n",
              "        vertical-align: middle;\n",
              "    }\n",
              "\n",
              "    .dataframe tbody tr th {\n",
              "        vertical-align: top;\n",
              "    }\n",
              "\n",
              "    .dataframe thead th {\n",
              "        text-align: right;\n",
              "    }\n",
              "</style>\n",
              "<table border=\"1\" class=\"dataframe\">\n",
              "  <thead>\n",
              "    <tr style=\"text-align: right;\">\n",
              "      <th></th>\n",
              "      <th>Session Id</th>\n",
              "      <th>DateTime</th>\n",
              "      <th>User Id</th>\n",
              "      <th>Product Type</th>\n",
              "      <th>Campaign Id</th>\n",
              "      <th>Webpage Id</th>\n",
              "      <th>Product Category</th>\n",
              "      <th>Advertisment Size</th>\n",
              "      <th>User Depth</th>\n",
              "      <th>Internet Browser Id</th>\n",
              "      <th>Gender</th>\n",
              "      <th>Age Group</th>\n",
              "      <th>City Size</th>\n",
              "      <th>Device Used</th>\n",
              "      <th>Clicked</th>\n",
              "      <th>Interested In Cars</th>\n",
              "      <th>Interested In Food</th>\n",
              "      <th>Interested In News</th>\n",
              "      <th>Interested In Technology</th>\n",
              "      <th>Interested In Medicine</th>\n",
              "      <th>Interested In Politics</th>\n",
              "      <th>Interested In Fashion</th>\n",
              "      <th>Interested In Astronomy</th>\n",
              "      <th>Interested In Animals</th>\n",
              "      <th>Interested In Travel</th>\n",
              "    </tr>\n",
              "  </thead>\n",
              "  <tbody>\n",
              "    <tr>\n",
              "      <th>0</th>\n",
              "      <td>229ac4c2-0ee9-4a3b-b52c-3b20c9d43039</td>\n",
              "      <td>09-04-2021 00:00</td>\n",
              "      <td>858557</td>\n",
              "      <td>C</td>\n",
              "      <td>359520</td>\n",
              "      <td>13787</td>\n",
              "      <td>4</td>\n",
              "      <td>NaN</td>\n",
              "      <td>3.0</td>\n",
              "      <td>10.0</td>\n",
              "      <td>F</td>\n",
              "      <td>45-54</td>\n",
              "      <td>5900000.0</td>\n",
              "      <td>Mobile</td>\n",
              "      <td>No</td>\n",
              "      <td>1</td>\n",
              "      <td>0</td>\n",
              "      <td>1</td>\n",
              "      <td>0</td>\n",
              "      <td>1</td>\n",
              "      <td>0</td>\n",
              "      <td>0</td>\n",
              "      <td>0</td>\n",
              "      <td>1</td>\n",
              "      <td>0</td>\n",
              "    </tr>\n",
              "    <tr>\n",
              "      <th>1</th>\n",
              "      <td>87c0f74a-fa7a-4b3f-bc48-ad1a5f80de2e</td>\n",
              "      <td>09-04-2021 00:00</td>\n",
              "      <td>243253</td>\n",
              "      <td>C</td>\n",
              "      <td>105960</td>\n",
              "      <td>11085</td>\n",
              "      <td>5</td>\n",
              "      <td>NaN</td>\n",
              "      <td>2.0</td>\n",
              "      <td>8.0</td>\n",
              "      <td>F</td>\n",
              "      <td>25-34</td>\n",
              "      <td>NaN</td>\n",
              "      <td>Mobile</td>\n",
              "      <td>No</td>\n",
              "      <td>1</td>\n",
              "      <td>0</td>\n",
              "      <td>1</td>\n",
              "      <td>1</td>\n",
              "      <td>1</td>\n",
              "      <td>0</td>\n",
              "      <td>0</td>\n",
              "      <td>0</td>\n",
              "      <td>1</td>\n",
              "      <td>1</td>\n",
              "    </tr>\n",
              "    <tr>\n",
              "      <th>2</th>\n",
              "      <td>b746f0ad-1aa3-492c-b7fa-5dd95643fb51</td>\n",
              "      <td>09-04-2021 00:00</td>\n",
              "      <td>243253</td>\n",
              "      <td>C</td>\n",
              "      <td>359520</td>\n",
              "      <td>13787</td>\n",
              "      <td>4</td>\n",
              "      <td>NaN</td>\n",
              "      <td>2.0</td>\n",
              "      <td>8.0</td>\n",
              "      <td>F</td>\n",
              "      <td>25-34</td>\n",
              "      <td>NaN</td>\n",
              "      <td>Mobile</td>\n",
              "      <td>No</td>\n",
              "      <td>1</td>\n",
              "      <td>0</td>\n",
              "      <td>0</td>\n",
              "      <td>1</td>\n",
              "      <td>0</td>\n",
              "      <td>0</td>\n",
              "      <td>1</td>\n",
              "      <td>0</td>\n",
              "      <td>0</td>\n",
              "      <td>0</td>\n",
              "    </tr>\n",
              "    <tr>\n",
              "      <th>3</th>\n",
              "      <td>36257832-77d5-4d8d-9abd-25d49dffb20d</td>\n",
              "      <td>09-04-2021 00:00</td>\n",
              "      <td>1097446</td>\n",
              "      <td>I</td>\n",
              "      <td>359520</td>\n",
              "      <td>13787</td>\n",
              "      <td>3</td>\n",
              "      <td>NaN</td>\n",
              "      <td>3.0</td>\n",
              "      <td>3.0</td>\n",
              "      <td>M</td>\n",
              "      <td>35-44</td>\n",
              "      <td>500000.0</td>\n",
              "      <td>PC/Laptop</td>\n",
              "      <td>No</td>\n",
              "      <td>0</td>\n",
              "      <td>1</td>\n",
              "      <td>1</td>\n",
              "      <td>1</td>\n",
              "      <td>0</td>\n",
              "      <td>0</td>\n",
              "      <td>1</td>\n",
              "      <td>0</td>\n",
              "      <td>0</td>\n",
              "      <td>0</td>\n",
              "    </tr>\n",
              "    <tr>\n",
              "      <th>4</th>\n",
              "      <td>df3a66aa-4714-407d-b6fe-49fe03ce8f16</td>\n",
              "      <td>09-04-2021 00:01</td>\n",
              "      <td>663656</td>\n",
              "      <td>C</td>\n",
              "      <td>405490</td>\n",
              "      <td>60305</td>\n",
              "      <td>3</td>\n",
              "      <td>NaN</td>\n",
              "      <td>3.0</td>\n",
              "      <td>2.0</td>\n",
              "      <td>M</td>\n",
              "      <td>25-34</td>\n",
              "      <td>500000.0</td>\n",
              "      <td>PC/Laptop</td>\n",
              "      <td>No</td>\n",
              "      <td>0</td>\n",
              "      <td>1</td>\n",
              "      <td>0</td>\n",
              "      <td>0</td>\n",
              "      <td>0</td>\n",
              "      <td>1</td>\n",
              "      <td>1</td>\n",
              "      <td>1</td>\n",
              "      <td>0</td>\n",
              "      <td>0</td>\n",
              "    </tr>\n",
              "  </tbody>\n",
              "</table>\n",
              "</div>"
            ],
            "text/plain": [
              "                             Session Id  ... Interested In Travel\n",
              "0  229ac4c2-0ee9-4a3b-b52c-3b20c9d43039  ...                    0\n",
              "1  87c0f74a-fa7a-4b3f-bc48-ad1a5f80de2e  ...                    1\n",
              "2  b746f0ad-1aa3-492c-b7fa-5dd95643fb51  ...                    0\n",
              "3  36257832-77d5-4d8d-9abd-25d49dffb20d  ...                    0\n",
              "4  df3a66aa-4714-407d-b6fe-49fe03ce8f16  ...                    0\n",
              "\n",
              "[5 rows x 25 columns]"
            ]
          },
          "metadata": {},
          "execution_count": 71
        }
      ]
    },
    {
      "cell_type": "code",
      "metadata": {
        "colab": {
          "base_uri": "https://localhost:8080/",
          "height": 0
        },
        "id": "RYEgv4hvYXPj",
        "outputId": "6127a550-eeba-45ac-f969-1672c9747503"
      },
      "source": [
        "test_url = \"https://media.githubusercontent.com/media/irawan09/Click_Prediction/master/test_set.csv\"\n",
        "testdataset=pd.read_csv(test_url)\n",
        "testdataset.head()"
      ],
      "execution_count": 72,
      "outputs": [
        {
          "output_type": "execute_result",
          "data": {
            "text/html": [
              "<div>\n",
              "<style scoped>\n",
              "    .dataframe tbody tr th:only-of-type {\n",
              "        vertical-align: middle;\n",
              "    }\n",
              "\n",
              "    .dataframe tbody tr th {\n",
              "        vertical-align: top;\n",
              "    }\n",
              "\n",
              "    .dataframe thead th {\n",
              "        text-align: right;\n",
              "    }\n",
              "</style>\n",
              "<table border=\"1\" class=\"dataframe\">\n",
              "  <thead>\n",
              "    <tr style=\"text-align: right;\">\n",
              "      <th></th>\n",
              "      <th>Session Id</th>\n",
              "      <th>DateTime</th>\n",
              "      <th>User Id</th>\n",
              "      <th>Product Type</th>\n",
              "      <th>Campaign Id</th>\n",
              "      <th>Webpage Id</th>\n",
              "      <th>Product Category</th>\n",
              "      <th>Advertisment Size</th>\n",
              "      <th>User Depth</th>\n",
              "      <th>Internet Browser Id</th>\n",
              "      <th>Gender</th>\n",
              "      <th>Age Group</th>\n",
              "      <th>City Size</th>\n",
              "      <th>Device Used</th>\n",
              "      <th>Interested In Cars</th>\n",
              "      <th>Interested In Food</th>\n",
              "      <th>Interested In News</th>\n",
              "      <th>Interested In Technology</th>\n",
              "      <th>Interested In Medicine</th>\n",
              "      <th>Interested In Politics</th>\n",
              "      <th>Interested In Fashion</th>\n",
              "      <th>Interested In Astronomy</th>\n",
              "      <th>Interested In Animals</th>\n",
              "      <th>Interested In Travel</th>\n",
              "    </tr>\n",
              "  </thead>\n",
              "  <tbody>\n",
              "    <tr>\n",
              "      <th>0</th>\n",
              "      <td>41cb91c7-ec1d-4e71-98fd-9e1c374bd33b</td>\n",
              "      <td>14-04-2021 00:00</td>\n",
              "      <td>262150</td>\n",
              "      <td>C</td>\n",
              "      <td>405490</td>\n",
              "      <td>60305</td>\n",
              "      <td>3</td>\n",
              "      <td>NaN</td>\n",
              "      <td>3.0</td>\n",
              "      <td>2.0</td>\n",
              "      <td>M</td>\n",
              "      <td>25-34</td>\n",
              "      <td>500000.0</td>\n",
              "      <td>PC/Laptop</td>\n",
              "      <td>0</td>\n",
              "      <td>1</td>\n",
              "      <td>0</td>\n",
              "      <td>1</td>\n",
              "      <td>0</td>\n",
              "      <td>1</td>\n",
              "      <td>1</td>\n",
              "      <td>1</td>\n",
              "      <td>0</td>\n",
              "      <td>1</td>\n",
              "    </tr>\n",
              "    <tr>\n",
              "      <th>1</th>\n",
              "      <td>c9d3f8e4-1445-45f2-99db-754bda50766c</td>\n",
              "      <td>14-04-2021 00:00</td>\n",
              "      <td>308173</td>\n",
              "      <td>C</td>\n",
              "      <td>405490</td>\n",
              "      <td>60305</td>\n",
              "      <td>3</td>\n",
              "      <td>NaN</td>\n",
              "      <td>3.0</td>\n",
              "      <td>10.0</td>\n",
              "      <td>F</td>\n",
              "      <td>45-54</td>\n",
              "      <td>500000.0</td>\n",
              "      <td>PC/Laptop</td>\n",
              "      <td>1</td>\n",
              "      <td>1</td>\n",
              "      <td>1</td>\n",
              "      <td>1</td>\n",
              "      <td>0</td>\n",
              "      <td>1</td>\n",
              "      <td>0</td>\n",
              "      <td>0</td>\n",
              "      <td>1</td>\n",
              "      <td>0</td>\n",
              "    </tr>\n",
              "    <tr>\n",
              "      <th>2</th>\n",
              "      <td>f85ffa39-b799-49a1-82b5-2f76a4009212</td>\n",
              "      <td>14-04-2021 00:00</td>\n",
              "      <td>308173</td>\n",
              "      <td>B</td>\n",
              "      <td>118601</td>\n",
              "      <td>28529</td>\n",
              "      <td>4</td>\n",
              "      <td>82527.0</td>\n",
              "      <td>3.0</td>\n",
              "      <td>10.0</td>\n",
              "      <td>F</td>\n",
              "      <td>45-54</td>\n",
              "      <td>500000.0</td>\n",
              "      <td>PC/Laptop</td>\n",
              "      <td>1</td>\n",
              "      <td>0</td>\n",
              "      <td>0</td>\n",
              "      <td>0</td>\n",
              "      <td>1</td>\n",
              "      <td>1</td>\n",
              "      <td>0</td>\n",
              "      <td>1</td>\n",
              "      <td>0</td>\n",
              "      <td>0</td>\n",
              "    </tr>\n",
              "    <tr>\n",
              "      <th>3</th>\n",
              "      <td>49336ffb-a9b7-485c-9891-6274482484e0</td>\n",
              "      <td>14-04-2021 00:00</td>\n",
              "      <td>806073</td>\n",
              "      <td>H</td>\n",
              "      <td>118601</td>\n",
              "      <td>28529</td>\n",
              "      <td>5</td>\n",
              "      <td>82527.0</td>\n",
              "      <td>3.0</td>\n",
              "      <td>3.0</td>\n",
              "      <td>M</td>\n",
              "      <td>35-44</td>\n",
              "      <td>500000.0</td>\n",
              "      <td>Mobile</td>\n",
              "      <td>1</td>\n",
              "      <td>0</td>\n",
              "      <td>1</td>\n",
              "      <td>0</td>\n",
              "      <td>1</td>\n",
              "      <td>1</td>\n",
              "      <td>0</td>\n",
              "      <td>1</td>\n",
              "      <td>1</td>\n",
              "      <td>1</td>\n",
              "    </tr>\n",
              "    <tr>\n",
              "      <th>4</th>\n",
              "      <td>8ea9c920-6686-46f2-acd1-4bf20371c28c</td>\n",
              "      <td>14-04-2021 00:00</td>\n",
              "      <td>796787</td>\n",
              "      <td>E</td>\n",
              "      <td>404347</td>\n",
              "      <td>53587</td>\n",
              "      <td>1</td>\n",
              "      <td>146115.0</td>\n",
              "      <td>1.0</td>\n",
              "      <td>3.0</td>\n",
              "      <td>M</td>\n",
              "      <td>35-44</td>\n",
              "      <td>NaN</td>\n",
              "      <td>Mobile</td>\n",
              "      <td>1</td>\n",
              "      <td>0</td>\n",
              "      <td>1</td>\n",
              "      <td>0</td>\n",
              "      <td>1</td>\n",
              "      <td>1</td>\n",
              "      <td>1</td>\n",
              "      <td>0</td>\n",
              "      <td>1</td>\n",
              "      <td>0</td>\n",
              "    </tr>\n",
              "  </tbody>\n",
              "</table>\n",
              "</div>"
            ],
            "text/plain": [
              "                             Session Id  ... Interested In Travel\n",
              "0  41cb91c7-ec1d-4e71-98fd-9e1c374bd33b  ...                    1\n",
              "1  c9d3f8e4-1445-45f2-99db-754bda50766c  ...                    0\n",
              "2  f85ffa39-b799-49a1-82b5-2f76a4009212  ...                    0\n",
              "3  49336ffb-a9b7-485c-9891-6274482484e0  ...                    1\n",
              "4  8ea9c920-6686-46f2-acd1-4bf20371c28c  ...                    0\n",
              "\n",
              "[5 rows x 24 columns]"
            ]
          },
          "metadata": {},
          "execution_count": 72
        }
      ]
    },
    {
      "cell_type": "markdown",
      "metadata": {
        "id": "T3sZPQ7lYgYF"
      },
      "source": [
        "##Data Preprocesing"
      ]
    },
    {
      "cell_type": "markdown",
      "metadata": {
        "id": "XKyLXj1Z0qtl"
      },
      "source": [
        "Data preprocessing is an initial data mining technique to convert raw data or commonly known as raw data collected from various sources into cleaner information that can be used for further processing. This process can also be called the initial step to retrieve all available information by cleaning, filtering, and combining the data. 3 common problems that are solved in the preprocessing stage are dealing with missing values, noise data, and inconsistent data. Missing value is inaccurate data because missing information makes the information in it irrelevant. Missing value often occurs when there are problems in the collection process, such as errors in data entry or problems in the use of biometrics. Noise data contains erroneous data and outliers that can be found in the data set. These outliers and incorrect data contain meaningless information. Some of the causes of data noise are due to human error in the form of labeling errors and other problems during data collection. Data inconsistency occurs when someone saves a file containing the same data in different formats. Some of the data inconsistencies are duplication in different formats, errors in code names, and so on.\n",
        "\n",
        "Preprocessing data is very important because errors, redundancy, missing values, and inconsistent data lead to reduced accuracy of analysis results. So, before processing the data, we must ensure that the data we will use is \"clean\" data."
      ]
    },
    {
      "cell_type": "code",
      "metadata": {
        "colab": {
          "base_uri": "https://localhost:8080/"
        },
        "id": "IIJ5U5FGYheI",
        "outputId": "252eef12-2a03-4481-f6e9-5a970545f2f6"
      },
      "source": [
        "print (traindataset.groupby('Product Type').groups.keys())\n",
        "pt_map = {\"J\" : 9,\"I\" : 8,\"H\" : 7,\"G\" : 6,\"F\" : 5,\"E\" : 4,\"D\" : 3,\"C\" : 2,\"B\" : 1, \"A\" : 0}\n",
        "traindataset[\"Product Type\"] = traindataset[\"Product Type\"].map(pt_map)\n",
        "\n",
        "print (traindataset.groupby('Gender').groups.keys())\n",
        "s_map = {\"M\" : 1, \"F\" : 0}\n",
        "traindataset[\"Gender\"] = traindataset[\"Gender\"].map(s_map)\n",
        "\n",
        "print (traindataset.groupby('Age Group').groups.keys())\n",
        "g_map = {\">65\" : 6, \"<18\" : 5, \"55-64\" : 4, \"45-54\" : 3, \"35-44\" : 2, \"25-34\" : 1, \"18-24\" : 0}\n",
        "traindataset[\"Age Group\"] = traindataset[\"Age Group\"].map(g_map)\n",
        "\n",
        "\n",
        "print (traindataset.groupby('Device Used').groups.keys())\n",
        "du_map = {\"Mobile\" : 1, \"PC/Laptop\" : 0}\n",
        "traindataset[\"Device Used\"] = traindataset[\"Device Used\"].map(du_map)\n",
        "\n",
        "print (traindataset.groupby('Clicked').groups.keys())\n",
        "c_map = {\"Yes\" : 1, \"No\" : 0}\n",
        "traindataset[\"Clicked\"] = traindataset[\"Clicked\"].map(c_map)"
      ],
      "execution_count": 73,
      "outputs": [
        {
          "output_type": "stream",
          "name": "stdout",
          "text": [
            "dict_keys(['A', 'B', 'C', 'D', 'E', 'F', 'G', 'H', 'I', 'J'])\n",
            "dict_keys(['F', 'M'])\n",
            "dict_keys(['18-24', '25-34', '35-44', '45-54', '55-64', '<18', '>65'])\n",
            "dict_keys(['Mobile', 'PC/Laptop'])\n",
            "dict_keys(['No', 'Yes'])\n"
          ]
        }
      ]
    },
    {
      "cell_type": "code",
      "metadata": {
        "colab": {
          "base_uri": "https://localhost:8080/"
        },
        "id": "gNqckiI0Ymav",
        "outputId": "a4afc1da-e2e3-4115-94a6-452ade3b89ef"
      },
      "source": [
        "print (testdataset.groupby('Product Type').groups.keys())\n",
        "pt_map = {\"J\" : 9,\"I\" : 8,\"H\" : 7,\"G\" : 6,\"F\" : 5,\"E\" : 4,\"D\" : 3,\"C\" : 2,\"B\" : 1, \"A\" : 0}\n",
        "testdataset[\"Product Type\"] = testdataset[\"Product Type\"].map(pt_map)\n",
        "\n",
        "print (testdataset.groupby('Gender').groups.keys())\n",
        "s_map = {\"M\" : 1, \"F\" : 0}\n",
        "testdataset[\"Gender\"] = testdataset[\"Gender\"].map(s_map)\n",
        "\n",
        "print (testdataset.groupby('Age Group').groups.keys())\n",
        "g_map = {\">65\" : 6, \"<18\" : 5, \"55-64\" : 4, \"45-54\" : 3, \"35-44\" : 2, \"25-34\" : 1, \"18-24\" : 0}\n",
        "testdataset[\"Age Group\"] = testdataset[\"Age Group\"].map(g_map)\n",
        "\n",
        "\n",
        "print (testdataset.groupby('Device Used').groups.keys())\n",
        "du_map = {\"Mobile\" : 1, \"PC/Laptop\" : 0}\n",
        "testdataset[\"Device Used\"] = testdataset[\"Device Used\"].map(du_map)"
      ],
      "execution_count": 74,
      "outputs": [
        {
          "output_type": "stream",
          "name": "stdout",
          "text": [
            "dict_keys(['A', 'B', 'C', 'D', 'E', 'F', 'G', 'H', 'I', 'J'])\n",
            "dict_keys(['F', 'M'])\n",
            "dict_keys(['18-24', '25-34', '35-44', '45-54', '55-64', '<18', '>65'])\n",
            "dict_keys(['Mobile', 'PC/Laptop'])\n"
          ]
        }
      ]
    },
    {
      "cell_type": "markdown",
      "metadata": {
        "id": "AdK4BaWuYuJ8"
      },
      "source": [
        "##Deal with missing data"
      ]
    },
    {
      "cell_type": "code",
      "metadata": {
        "colab": {
          "base_uri": "https://localhost:8080/"
        },
        "id": "Uvh8bR9MYqM0",
        "outputId": "f069d8d9-b295-4873-ba02-1787c522ad22"
      },
      "source": [
        "print(traindataset.isnull().sum())"
      ],
      "execution_count": 75,
      "outputs": [
        {
          "output_type": "stream",
          "name": "stdout",
          "text": [
            "Session Id                       0\n",
            "DateTime                         0\n",
            "User Id                          0\n",
            "Product Type                     0\n",
            "Campaign Id                      0\n",
            "Webpage Id                       0\n",
            "Product Category                 0\n",
            "Advertisment Size           321591\n",
            "User Depth                   15743\n",
            "Internet Browser Id          15743\n",
            "Gender                       15743\n",
            "Age Group                    15743\n",
            "City Size                   107129\n",
            "Device Used                      0\n",
            "Clicked                          0\n",
            "Interested In Cars               0\n",
            "Interested In Food               0\n",
            "Interested In News               0\n",
            "Interested In Technology         0\n",
            "Interested In Medicine           0\n",
            "Interested In Politics           0\n",
            "Interested In Fashion            0\n",
            "Interested In Astronomy          0\n",
            "Interested In Animals            0\n",
            "Interested In Travel             0\n",
            "dtype: int64\n"
          ]
        }
      ]
    },
    {
      "cell_type": "code",
      "metadata": {
        "colab": {
          "base_uri": "https://localhost:8080/"
        },
        "id": "8RhVmDMrY03-",
        "outputId": "a641db99-fc54-46a9-91b2-4df95c16ebf9"
      },
      "source": [
        "print(testdataset.isnull().sum())"
      ],
      "execution_count": 76,
      "outputs": [
        {
          "output_type": "stream",
          "name": "stdout",
          "text": [
            "Session Id                      0\n",
            "DateTime                        0\n",
            "User Id                         0\n",
            "Product Type                    0\n",
            "Campaign Id                     0\n",
            "Webpage Id                      0\n",
            "Product Category                0\n",
            "Advertisment Size           44263\n",
            "User Depth                   2500\n",
            "Internet Browser Id          2500\n",
            "Gender                       2500\n",
            "Age Group                    2500\n",
            "City Size                   18000\n",
            "Device Used                     0\n",
            "Interested In Cars              0\n",
            "Interested In Food              0\n",
            "Interested In News              0\n",
            "Interested In Technology        0\n",
            "Interested In Medicine          0\n",
            "Interested In Politics          0\n",
            "Interested In Fashion           0\n",
            "Interested In Astronomy         0\n",
            "Interested In Animals           0\n",
            "Interested In Travel            0\n",
            "dtype: int64\n"
          ]
        }
      ]
    },
    {
      "cell_type": "code",
      "metadata": {
        "id": "FKKWdN2WY3mF"
      },
      "source": [
        "train_dataset = traindataset.drop(['Session Id','Webpage Id','Campaign Id','User Id', 'DateTime', 'Advertisment Size', 'User Depth', 'Internet Browser Id', 'Gender', 'Age Group', 'City Size', ], axis = 1)\n"
      ],
      "execution_count": 77,
      "outputs": []
    },
    {
      "cell_type": "code",
      "metadata": {
        "id": "j1XzrDinZHzo"
      },
      "source": [
        "test_dataset = testdataset.drop(['Session Id','Webpage Id','Campaign Id','User Id', 'DateTime', 'Advertisment Size', 'User Depth', 'Internet Browser Id', 'Gender', 'Age Group', 'City Size' ], axis = 1)\n"
      ],
      "execution_count": 78,
      "outputs": []
    },
    {
      "cell_type": "code",
      "metadata": {
        "colab": {
          "base_uri": "https://localhost:8080/"
        },
        "id": "KxC4vGqzZPBy",
        "outputId": "fcd865a1-bc3c-4ef0-c780-9258606eb96c"
      },
      "source": [
        "print(train_dataset.isnull().sum())"
      ],
      "execution_count": 79,
      "outputs": [
        {
          "output_type": "stream",
          "name": "stdout",
          "text": [
            "Product Type                0\n",
            "Product Category            0\n",
            "Device Used                 0\n",
            "Clicked                     0\n",
            "Interested In Cars          0\n",
            "Interested In Food          0\n",
            "Interested In News          0\n",
            "Interested In Technology    0\n",
            "Interested In Medicine      0\n",
            "Interested In Politics      0\n",
            "Interested In Fashion       0\n",
            "Interested In Astronomy     0\n",
            "Interested In Animals       0\n",
            "Interested In Travel        0\n",
            "dtype: int64\n"
          ]
        }
      ]
    },
    {
      "cell_type": "code",
      "metadata": {
        "colab": {
          "base_uri": "https://localhost:8080/"
        },
        "id": "0ikvLXIMZP5R",
        "outputId": "b8d6d313-21c0-42e9-f596-f66386532287"
      },
      "source": [
        "print(test_dataset.isnull().sum())"
      ],
      "execution_count": 80,
      "outputs": [
        {
          "output_type": "stream",
          "name": "stdout",
          "text": [
            "Product Type                0\n",
            "Product Category            0\n",
            "Device Used                 0\n",
            "Interested In Cars          0\n",
            "Interested In Food          0\n",
            "Interested In News          0\n",
            "Interested In Technology    0\n",
            "Interested In Medicine      0\n",
            "Interested In Politics      0\n",
            "Interested In Fashion       0\n",
            "Interested In Astronomy     0\n",
            "Interested In Animals       0\n",
            "Interested In Travel        0\n",
            "dtype: int64\n"
          ]
        }
      ]
    },
    {
      "cell_type": "markdown",
      "metadata": {
        "id": "vjB7Pyb0ZlaN"
      },
      "source": [
        "##Data Training Splitting to evaluate model"
      ]
    },
    {
      "cell_type": "markdown",
      "metadata": {
        "id": "jI0F69Df1Y7n"
      },
      "source": [
        "Train/test split is one method that can be used to evaluate the performance of machine learning models. This model evaluation method divides the dataset into two parts, namely the part used for training data and for testing data with certain proportions.\n",
        "\n",
        "Train data is used to fit the machine learning model, while test data is used to evaluate the fit of the model.\n",
        "Evaluation of machine learning models with train/test splits is suitable for large datasets. As we know, the train/test split divides the dataset into train sets and test sets, or in other words, the data used for the training and testing process are different data sets."
      ]
    },
    {
      "cell_type": "code",
      "metadata": {
        "id": "DdYK0RGdZRzn"
      },
      "source": [
        "x = train_dataset.drop(['Clicked'], axis = 1)\n",
        "y = traindataset['Clicked']\n",
        "\n",
        "x_train, x_test, y_train, y_test = train_test_split(x, y, test_size = 0.2, random_state = 123)"
      ],
      "execution_count": 81,
      "outputs": []
    },
    {
      "cell_type": "markdown",
      "metadata": {
        "id": "d49cxhzZaWSR"
      },
      "source": [
        "##Constructing and Evaluating The Model"
      ]
    },
    {
      "cell_type": "code",
      "metadata": {
        "id": "2AuVerUFaVRq"
      },
      "source": [
        "modelnb = GaussianNB()\n",
        "nbtrain = modelnb.fit(x_train, y_train)"
      ],
      "execution_count": 82,
      "outputs": []
    },
    {
      "cell_type": "code",
      "metadata": {
        "id": "PB-3_btBajSx"
      },
      "source": [
        "y_pred = nbtrain.predict(x_test)"
      ],
      "execution_count": 83,
      "outputs": []
    },
    {
      "cell_type": "code",
      "metadata": {
        "colab": {
          "base_uri": "https://localhost:8080/"
        },
        "id": "ZxwaoddtaqgM",
        "outputId": "a9838ae5-bd6a-47e1-d31e-0adde685bb0a"
      },
      "source": [
        "nbtrain.predict_proba(x_test)"
      ],
      "execution_count": 84,
      "outputs": [
        {
          "output_type": "execute_result",
          "data": {
            "text/plain": [
              "array([[0.9411145 , 0.0588855 ],\n",
              "       [0.92099313, 0.07900687],\n",
              "       [0.93343749, 0.06656251],\n",
              "       ...,\n",
              "       [0.92185245, 0.07814755],\n",
              "       [0.93753854, 0.06246146],\n",
              "       [0.93067429, 0.06932571]])"
            ]
          },
          "metadata": {},
          "execution_count": 84
        }
      ]
    },
    {
      "cell_type": "code",
      "metadata": {
        "colab": {
          "base_uri": "https://localhost:8080/"
        },
        "id": "81I0a3Dma022",
        "outputId": "185686f0-1fc2-4cb7-a9e2-6b9c9bb7652c"
      },
      "source": [
        "print(classification_report(y_test, y_pred))"
      ],
      "execution_count": 85,
      "outputs": [
        {
          "output_type": "stream",
          "name": "stdout",
          "text": [
            "              precision    recall  f1-score   support\n",
            "\n",
            "           0       0.93      1.00      0.96     73008\n",
            "           1       0.00      0.00      0.00      5357\n",
            "\n",
            "    accuracy                           0.93     78365\n",
            "   macro avg       0.47      0.50      0.48     78365\n",
            "weighted avg       0.87      0.93      0.90     78365\n",
            "\n"
          ]
        },
        {
          "output_type": "stream",
          "name": "stderr",
          "text": [
            "/usr/local/lib/python3.7/dist-packages/sklearn/metrics/_classification.py:1272: UndefinedMetricWarning: Precision and F-score are ill-defined and being set to 0.0 in labels with no predicted samples. Use `zero_division` parameter to control this behavior.\n",
            "  _warn_prf(average, modifier, msg_start, len(result))\n"
          ]
        }
      ]
    },
    {
      "cell_type": "markdown",
      "metadata": {
        "id": "RC_Oe8iK1f9y"
      },
      "source": [
        "**Accuracy**\n",
        "is the ratio of True (positive and negative) predictions to the overall data.\n",
        "\n",
        "**Precision**\n",
        "is the ratio of positive true predictions compared to the overall positive predicted outcome.\n",
        "\n",
        "**Recall (Sensitivity)**\n",
        "is the ratio of true positive predictions compared to the total number of true positive data.\n",
        "\n",
        "**Specificity**\n",
        "It is the correctness of predicting negative compared to the overall negative data.\n",
        "\n",
        "**F1 Score**\n",
        "is a weighted comparison of the average precision and recall"
      ]
    },
    {
      "cell_type": "markdown",
      "metadata": {
        "id": "913jtcE5bbZn"
      },
      "source": [
        "##Predicting The Test data File and Construct The Result"
      ]
    },
    {
      "cell_type": "code",
      "metadata": {
        "colab": {
          "base_uri": "https://localhost:8080/"
        },
        "id": "MkLV_n3XbBoU",
        "outputId": "58f83872-6b05-4866-e66d-24cbf10aee00"
      },
      "source": [
        "print(\"Number of rows test dataset file :\", testdataset[data_test.columns[0]].count())"
      ],
      "execution_count": 86,
      "outputs": [
        {
          "output_type": "stream",
          "name": "stdout",
          "text": [
            "Number of rows test dataset file : 71466\n"
          ]
        }
      ]
    },
    {
      "cell_type": "code",
      "metadata": {
        "colab": {
          "base_uri": "https://localhost:8080/",
          "height": 332
        },
        "id": "03quSbZNmAfF",
        "outputId": "01efdb7d-f941-4db2-e2cf-47bf5aeb081e"
      },
      "source": [
        "testdataset.head(3)"
      ],
      "execution_count": 87,
      "outputs": [
        {
          "output_type": "execute_result",
          "data": {
            "text/html": [
              "<div>\n",
              "<style scoped>\n",
              "    .dataframe tbody tr th:only-of-type {\n",
              "        vertical-align: middle;\n",
              "    }\n",
              "\n",
              "    .dataframe tbody tr th {\n",
              "        vertical-align: top;\n",
              "    }\n",
              "\n",
              "    .dataframe thead th {\n",
              "        text-align: right;\n",
              "    }\n",
              "</style>\n",
              "<table border=\"1\" class=\"dataframe\">\n",
              "  <thead>\n",
              "    <tr style=\"text-align: right;\">\n",
              "      <th></th>\n",
              "      <th>Session Id</th>\n",
              "      <th>DateTime</th>\n",
              "      <th>User Id</th>\n",
              "      <th>Product Type</th>\n",
              "      <th>Campaign Id</th>\n",
              "      <th>Webpage Id</th>\n",
              "      <th>Product Category</th>\n",
              "      <th>Advertisment Size</th>\n",
              "      <th>User Depth</th>\n",
              "      <th>Internet Browser Id</th>\n",
              "      <th>Gender</th>\n",
              "      <th>Age Group</th>\n",
              "      <th>City Size</th>\n",
              "      <th>Device Used</th>\n",
              "      <th>Interested In Cars</th>\n",
              "      <th>Interested In Food</th>\n",
              "      <th>Interested In News</th>\n",
              "      <th>Interested In Technology</th>\n",
              "      <th>Interested In Medicine</th>\n",
              "      <th>Interested In Politics</th>\n",
              "      <th>Interested In Fashion</th>\n",
              "      <th>Interested In Astronomy</th>\n",
              "      <th>Interested In Animals</th>\n",
              "      <th>Interested In Travel</th>\n",
              "    </tr>\n",
              "  </thead>\n",
              "  <tbody>\n",
              "    <tr>\n",
              "      <th>0</th>\n",
              "      <td>41cb91c7-ec1d-4e71-98fd-9e1c374bd33b</td>\n",
              "      <td>14-04-2021 00:00</td>\n",
              "      <td>262150</td>\n",
              "      <td>2</td>\n",
              "      <td>405490</td>\n",
              "      <td>60305</td>\n",
              "      <td>3</td>\n",
              "      <td>NaN</td>\n",
              "      <td>3.0</td>\n",
              "      <td>2.0</td>\n",
              "      <td>1.0</td>\n",
              "      <td>1.0</td>\n",
              "      <td>500000.0</td>\n",
              "      <td>0</td>\n",
              "      <td>0</td>\n",
              "      <td>1</td>\n",
              "      <td>0</td>\n",
              "      <td>1</td>\n",
              "      <td>0</td>\n",
              "      <td>1</td>\n",
              "      <td>1</td>\n",
              "      <td>1</td>\n",
              "      <td>0</td>\n",
              "      <td>1</td>\n",
              "    </tr>\n",
              "    <tr>\n",
              "      <th>1</th>\n",
              "      <td>c9d3f8e4-1445-45f2-99db-754bda50766c</td>\n",
              "      <td>14-04-2021 00:00</td>\n",
              "      <td>308173</td>\n",
              "      <td>2</td>\n",
              "      <td>405490</td>\n",
              "      <td>60305</td>\n",
              "      <td>3</td>\n",
              "      <td>NaN</td>\n",
              "      <td>3.0</td>\n",
              "      <td>10.0</td>\n",
              "      <td>0.0</td>\n",
              "      <td>3.0</td>\n",
              "      <td>500000.0</td>\n",
              "      <td>0</td>\n",
              "      <td>1</td>\n",
              "      <td>1</td>\n",
              "      <td>1</td>\n",
              "      <td>1</td>\n",
              "      <td>0</td>\n",
              "      <td>1</td>\n",
              "      <td>0</td>\n",
              "      <td>0</td>\n",
              "      <td>1</td>\n",
              "      <td>0</td>\n",
              "    </tr>\n",
              "    <tr>\n",
              "      <th>2</th>\n",
              "      <td>f85ffa39-b799-49a1-82b5-2f76a4009212</td>\n",
              "      <td>14-04-2021 00:00</td>\n",
              "      <td>308173</td>\n",
              "      <td>1</td>\n",
              "      <td>118601</td>\n",
              "      <td>28529</td>\n",
              "      <td>4</td>\n",
              "      <td>82527.0</td>\n",
              "      <td>3.0</td>\n",
              "      <td>10.0</td>\n",
              "      <td>0.0</td>\n",
              "      <td>3.0</td>\n",
              "      <td>500000.0</td>\n",
              "      <td>0</td>\n",
              "      <td>1</td>\n",
              "      <td>0</td>\n",
              "      <td>0</td>\n",
              "      <td>0</td>\n",
              "      <td>1</td>\n",
              "      <td>1</td>\n",
              "      <td>0</td>\n",
              "      <td>1</td>\n",
              "      <td>0</td>\n",
              "      <td>0</td>\n",
              "    </tr>\n",
              "  </tbody>\n",
              "</table>\n",
              "</div>"
            ],
            "text/plain": [
              "                             Session Id  ... Interested In Travel\n",
              "0  41cb91c7-ec1d-4e71-98fd-9e1c374bd33b  ...                    1\n",
              "1  c9d3f8e4-1445-45f2-99db-754bda50766c  ...                    0\n",
              "2  f85ffa39-b799-49a1-82b5-2f76a4009212  ...                    0\n",
              "\n",
              "[3 rows x 24 columns]"
            ]
          },
          "metadata": {},
          "execution_count": 87
        }
      ]
    },
    {
      "cell_type": "code",
      "metadata": {
        "id": "dUdq2CTfuUPy"
      },
      "source": [
        "new_dataset = traindataset.iloc[:300000]\n",
        "new_dataset_ = new_dataset.drop(['Clicked'], axis = 1)"
      ],
      "execution_count": 88,
      "outputs": []
    },
    {
      "cell_type": "code",
      "metadata": {
        "colab": {
          "base_uri": "https://localhost:8080/"
        },
        "id": "mRmYSYsdv0Be",
        "outputId": "bd0734b3-dd2f-4724-8064-4bf294b94a7e"
      },
      "source": [
        "print(\"Number of rows new dataset file :\", new_dataset_[new_dataset_.columns[0]].count())"
      ],
      "execution_count": 89,
      "outputs": [
        {
          "output_type": "stream",
          "name": "stdout",
          "text": [
            "Number of rows new dataset file : 300000\n"
          ]
        }
      ]
    },
    {
      "cell_type": "code",
      "metadata": {
        "colab": {
          "base_uri": "https://localhost:8080/",
          "height": 349
        },
        "id": "mo-U8CFuwJFz",
        "outputId": "90832fb1-d6f1-4e5b-c950-d4e60f072aba"
      },
      "source": [
        "new_dataset_.head(3)"
      ],
      "execution_count": 90,
      "outputs": [
        {
          "output_type": "execute_result",
          "data": {
            "text/html": [
              "<div>\n",
              "<style scoped>\n",
              "    .dataframe tbody tr th:only-of-type {\n",
              "        vertical-align: middle;\n",
              "    }\n",
              "\n",
              "    .dataframe tbody tr th {\n",
              "        vertical-align: top;\n",
              "    }\n",
              "\n",
              "    .dataframe thead th {\n",
              "        text-align: right;\n",
              "    }\n",
              "</style>\n",
              "<table border=\"1\" class=\"dataframe\">\n",
              "  <thead>\n",
              "    <tr style=\"text-align: right;\">\n",
              "      <th></th>\n",
              "      <th>Session Id</th>\n",
              "      <th>DateTime</th>\n",
              "      <th>User Id</th>\n",
              "      <th>Product Type</th>\n",
              "      <th>Campaign Id</th>\n",
              "      <th>Webpage Id</th>\n",
              "      <th>Product Category</th>\n",
              "      <th>Advertisment Size</th>\n",
              "      <th>User Depth</th>\n",
              "      <th>Internet Browser Id</th>\n",
              "      <th>Gender</th>\n",
              "      <th>Age Group</th>\n",
              "      <th>City Size</th>\n",
              "      <th>Device Used</th>\n",
              "      <th>Interested In Cars</th>\n",
              "      <th>Interested In Food</th>\n",
              "      <th>Interested In News</th>\n",
              "      <th>Interested In Technology</th>\n",
              "      <th>Interested In Medicine</th>\n",
              "      <th>Interested In Politics</th>\n",
              "      <th>Interested In Fashion</th>\n",
              "      <th>Interested In Astronomy</th>\n",
              "      <th>Interested In Animals</th>\n",
              "      <th>Interested In Travel</th>\n",
              "    </tr>\n",
              "  </thead>\n",
              "  <tbody>\n",
              "    <tr>\n",
              "      <th>0</th>\n",
              "      <td>229ac4c2-0ee9-4a3b-b52c-3b20c9d43039</td>\n",
              "      <td>09-04-2021 00:00</td>\n",
              "      <td>858557</td>\n",
              "      <td>2</td>\n",
              "      <td>359520</td>\n",
              "      <td>13787</td>\n",
              "      <td>4</td>\n",
              "      <td>NaN</td>\n",
              "      <td>3.0</td>\n",
              "      <td>10.0</td>\n",
              "      <td>0.0</td>\n",
              "      <td>3.0</td>\n",
              "      <td>5900000.0</td>\n",
              "      <td>1</td>\n",
              "      <td>1</td>\n",
              "      <td>0</td>\n",
              "      <td>1</td>\n",
              "      <td>0</td>\n",
              "      <td>1</td>\n",
              "      <td>0</td>\n",
              "      <td>0</td>\n",
              "      <td>0</td>\n",
              "      <td>1</td>\n",
              "      <td>0</td>\n",
              "    </tr>\n",
              "    <tr>\n",
              "      <th>1</th>\n",
              "      <td>87c0f74a-fa7a-4b3f-bc48-ad1a5f80de2e</td>\n",
              "      <td>09-04-2021 00:00</td>\n",
              "      <td>243253</td>\n",
              "      <td>2</td>\n",
              "      <td>105960</td>\n",
              "      <td>11085</td>\n",
              "      <td>5</td>\n",
              "      <td>NaN</td>\n",
              "      <td>2.0</td>\n",
              "      <td>8.0</td>\n",
              "      <td>0.0</td>\n",
              "      <td>1.0</td>\n",
              "      <td>NaN</td>\n",
              "      <td>1</td>\n",
              "      <td>1</td>\n",
              "      <td>0</td>\n",
              "      <td>1</td>\n",
              "      <td>1</td>\n",
              "      <td>1</td>\n",
              "      <td>0</td>\n",
              "      <td>0</td>\n",
              "      <td>0</td>\n",
              "      <td>1</td>\n",
              "      <td>1</td>\n",
              "    </tr>\n",
              "    <tr>\n",
              "      <th>2</th>\n",
              "      <td>b746f0ad-1aa3-492c-b7fa-5dd95643fb51</td>\n",
              "      <td>09-04-2021 00:00</td>\n",
              "      <td>243253</td>\n",
              "      <td>2</td>\n",
              "      <td>359520</td>\n",
              "      <td>13787</td>\n",
              "      <td>4</td>\n",
              "      <td>NaN</td>\n",
              "      <td>2.0</td>\n",
              "      <td>8.0</td>\n",
              "      <td>0.0</td>\n",
              "      <td>1.0</td>\n",
              "      <td>NaN</td>\n",
              "      <td>1</td>\n",
              "      <td>1</td>\n",
              "      <td>0</td>\n",
              "      <td>0</td>\n",
              "      <td>1</td>\n",
              "      <td>0</td>\n",
              "      <td>0</td>\n",
              "      <td>1</td>\n",
              "      <td>0</td>\n",
              "      <td>0</td>\n",
              "      <td>0</td>\n",
              "    </tr>\n",
              "  </tbody>\n",
              "</table>\n",
              "</div>"
            ],
            "text/plain": [
              "                             Session Id  ... Interested In Travel\n",
              "0  229ac4c2-0ee9-4a3b-b52c-3b20c9d43039  ...                    0\n",
              "1  87c0f74a-fa7a-4b3f-bc48-ad1a5f80de2e  ...                    1\n",
              "2  b746f0ad-1aa3-492c-b7fa-5dd95643fb51  ...                    0\n",
              "\n",
              "[3 rows x 24 columns]"
            ]
          },
          "metadata": {},
          "execution_count": 90
        }
      ]
    },
    {
      "cell_type": "code",
      "metadata": {
        "colab": {
          "base_uri": "https://localhost:8080/"
        },
        "id": "2vjOEPhqmK9-",
        "outputId": "bce96311-bebc-492b-dc16-402de32a048f"
      },
      "source": [
        "result = pd.concat([testdataset, new_dataset_])\n",
        "\n",
        "print(\"Number of rows both of test dataset :\", result[result.columns[0]].count())"
      ],
      "execution_count": 91,
      "outputs": [
        {
          "output_type": "stream",
          "name": "stdout",
          "text": [
            "Number of rows both of test dataset : 371466\n"
          ]
        }
      ]
    },
    {
      "cell_type": "code",
      "metadata": {
        "colab": {
          "base_uri": "https://localhost:8080/",
          "height": 332
        },
        "id": "3DU0C-4kxd8N",
        "outputId": "8dca62f0-d712-4471-fc29-73aaead860b8"
      },
      "source": [
        "result.head(3)"
      ],
      "execution_count": 92,
      "outputs": [
        {
          "output_type": "execute_result",
          "data": {
            "text/html": [
              "<div>\n",
              "<style scoped>\n",
              "    .dataframe tbody tr th:only-of-type {\n",
              "        vertical-align: middle;\n",
              "    }\n",
              "\n",
              "    .dataframe tbody tr th {\n",
              "        vertical-align: top;\n",
              "    }\n",
              "\n",
              "    .dataframe thead th {\n",
              "        text-align: right;\n",
              "    }\n",
              "</style>\n",
              "<table border=\"1\" class=\"dataframe\">\n",
              "  <thead>\n",
              "    <tr style=\"text-align: right;\">\n",
              "      <th></th>\n",
              "      <th>Session Id</th>\n",
              "      <th>DateTime</th>\n",
              "      <th>User Id</th>\n",
              "      <th>Product Type</th>\n",
              "      <th>Campaign Id</th>\n",
              "      <th>Webpage Id</th>\n",
              "      <th>Product Category</th>\n",
              "      <th>Advertisment Size</th>\n",
              "      <th>User Depth</th>\n",
              "      <th>Internet Browser Id</th>\n",
              "      <th>Gender</th>\n",
              "      <th>Age Group</th>\n",
              "      <th>City Size</th>\n",
              "      <th>Device Used</th>\n",
              "      <th>Interested In Cars</th>\n",
              "      <th>Interested In Food</th>\n",
              "      <th>Interested In News</th>\n",
              "      <th>Interested In Technology</th>\n",
              "      <th>Interested In Medicine</th>\n",
              "      <th>Interested In Politics</th>\n",
              "      <th>Interested In Fashion</th>\n",
              "      <th>Interested In Astronomy</th>\n",
              "      <th>Interested In Animals</th>\n",
              "      <th>Interested In Travel</th>\n",
              "    </tr>\n",
              "  </thead>\n",
              "  <tbody>\n",
              "    <tr>\n",
              "      <th>0</th>\n",
              "      <td>41cb91c7-ec1d-4e71-98fd-9e1c374bd33b</td>\n",
              "      <td>14-04-2021 00:00</td>\n",
              "      <td>262150</td>\n",
              "      <td>2</td>\n",
              "      <td>405490</td>\n",
              "      <td>60305</td>\n",
              "      <td>3</td>\n",
              "      <td>NaN</td>\n",
              "      <td>3.0</td>\n",
              "      <td>2.0</td>\n",
              "      <td>1.0</td>\n",
              "      <td>1.0</td>\n",
              "      <td>500000.0</td>\n",
              "      <td>0</td>\n",
              "      <td>0</td>\n",
              "      <td>1</td>\n",
              "      <td>0</td>\n",
              "      <td>1</td>\n",
              "      <td>0</td>\n",
              "      <td>1</td>\n",
              "      <td>1</td>\n",
              "      <td>1</td>\n",
              "      <td>0</td>\n",
              "      <td>1</td>\n",
              "    </tr>\n",
              "    <tr>\n",
              "      <th>1</th>\n",
              "      <td>c9d3f8e4-1445-45f2-99db-754bda50766c</td>\n",
              "      <td>14-04-2021 00:00</td>\n",
              "      <td>308173</td>\n",
              "      <td>2</td>\n",
              "      <td>405490</td>\n",
              "      <td>60305</td>\n",
              "      <td>3</td>\n",
              "      <td>NaN</td>\n",
              "      <td>3.0</td>\n",
              "      <td>10.0</td>\n",
              "      <td>0.0</td>\n",
              "      <td>3.0</td>\n",
              "      <td>500000.0</td>\n",
              "      <td>0</td>\n",
              "      <td>1</td>\n",
              "      <td>1</td>\n",
              "      <td>1</td>\n",
              "      <td>1</td>\n",
              "      <td>0</td>\n",
              "      <td>1</td>\n",
              "      <td>0</td>\n",
              "      <td>0</td>\n",
              "      <td>1</td>\n",
              "      <td>0</td>\n",
              "    </tr>\n",
              "    <tr>\n",
              "      <th>2</th>\n",
              "      <td>f85ffa39-b799-49a1-82b5-2f76a4009212</td>\n",
              "      <td>14-04-2021 00:00</td>\n",
              "      <td>308173</td>\n",
              "      <td>1</td>\n",
              "      <td>118601</td>\n",
              "      <td>28529</td>\n",
              "      <td>4</td>\n",
              "      <td>82527.0</td>\n",
              "      <td>3.0</td>\n",
              "      <td>10.0</td>\n",
              "      <td>0.0</td>\n",
              "      <td>3.0</td>\n",
              "      <td>500000.0</td>\n",
              "      <td>0</td>\n",
              "      <td>1</td>\n",
              "      <td>0</td>\n",
              "      <td>0</td>\n",
              "      <td>0</td>\n",
              "      <td>1</td>\n",
              "      <td>1</td>\n",
              "      <td>0</td>\n",
              "      <td>1</td>\n",
              "      <td>0</td>\n",
              "      <td>0</td>\n",
              "    </tr>\n",
              "  </tbody>\n",
              "</table>\n",
              "</div>"
            ],
            "text/plain": [
              "                             Session Id  ... Interested In Travel\n",
              "0  41cb91c7-ec1d-4e71-98fd-9e1c374bd33b  ...                    1\n",
              "1  c9d3f8e4-1445-45f2-99db-754bda50766c  ...                    0\n",
              "2  f85ffa39-b799-49a1-82b5-2f76a4009212  ...                    0\n",
              "\n",
              "[3 rows x 24 columns]"
            ]
          },
          "metadata": {},
          "execution_count": 92
        }
      ]
    },
    {
      "cell_type": "code",
      "metadata": {
        "id": "B0D-uv-DwjZB"
      },
      "source": [
        "prob_dataset = result.drop(['Session Id','Webpage Id','Campaign Id','User Id', 'DateTime', 'Advertisment Size', 'User Depth', 'Internet Browser Id', 'Gender', 'Age Group', 'City Size',], axis = 1)"
      ],
      "execution_count": 93,
      "outputs": []
    },
    {
      "cell_type": "code",
      "metadata": {
        "colab": {
          "base_uri": "https://localhost:8080/",
          "height": 165
        },
        "id": "Z-KWny6Kx0ow",
        "outputId": "dc1fb948-0c1d-484a-ea31-53bfe5160238"
      },
      "source": [
        "prob_dataset.head(2)"
      ],
      "execution_count": 94,
      "outputs": [
        {
          "output_type": "execute_result",
          "data": {
            "text/html": [
              "<div>\n",
              "<style scoped>\n",
              "    .dataframe tbody tr th:only-of-type {\n",
              "        vertical-align: middle;\n",
              "    }\n",
              "\n",
              "    .dataframe tbody tr th {\n",
              "        vertical-align: top;\n",
              "    }\n",
              "\n",
              "    .dataframe thead th {\n",
              "        text-align: right;\n",
              "    }\n",
              "</style>\n",
              "<table border=\"1\" class=\"dataframe\">\n",
              "  <thead>\n",
              "    <tr style=\"text-align: right;\">\n",
              "      <th></th>\n",
              "      <th>Product Type</th>\n",
              "      <th>Product Category</th>\n",
              "      <th>Device Used</th>\n",
              "      <th>Interested In Cars</th>\n",
              "      <th>Interested In Food</th>\n",
              "      <th>Interested In News</th>\n",
              "      <th>Interested In Technology</th>\n",
              "      <th>Interested In Medicine</th>\n",
              "      <th>Interested In Politics</th>\n",
              "      <th>Interested In Fashion</th>\n",
              "      <th>Interested In Astronomy</th>\n",
              "      <th>Interested In Animals</th>\n",
              "      <th>Interested In Travel</th>\n",
              "    </tr>\n",
              "  </thead>\n",
              "  <tbody>\n",
              "    <tr>\n",
              "      <th>0</th>\n",
              "      <td>2</td>\n",
              "      <td>3</td>\n",
              "      <td>0</td>\n",
              "      <td>0</td>\n",
              "      <td>1</td>\n",
              "      <td>0</td>\n",
              "      <td>1</td>\n",
              "      <td>0</td>\n",
              "      <td>1</td>\n",
              "      <td>1</td>\n",
              "      <td>1</td>\n",
              "      <td>0</td>\n",
              "      <td>1</td>\n",
              "    </tr>\n",
              "    <tr>\n",
              "      <th>1</th>\n",
              "      <td>2</td>\n",
              "      <td>3</td>\n",
              "      <td>0</td>\n",
              "      <td>1</td>\n",
              "      <td>1</td>\n",
              "      <td>1</td>\n",
              "      <td>1</td>\n",
              "      <td>0</td>\n",
              "      <td>1</td>\n",
              "      <td>0</td>\n",
              "      <td>0</td>\n",
              "      <td>1</td>\n",
              "      <td>0</td>\n",
              "    </tr>\n",
              "  </tbody>\n",
              "</table>\n",
              "</div>"
            ],
            "text/plain": [
              "   Product Type  Product Category  ...  Interested In Animals  Interested In Travel\n",
              "0             2                 3  ...                      0                     1\n",
              "1             2                 3  ...                      1                     0\n",
              "\n",
              "[2 rows x 13 columns]"
            ]
          },
          "metadata": {},
          "execution_count": 94
        }
      ]
    },
    {
      "cell_type": "code",
      "metadata": {
        "colab": {
          "base_uri": "https://localhost:8080/",
          "height": 204
        },
        "id": "7x6y69P4lZHo",
        "outputId": "5cd24248-98bf-4334-daee-526ed54e0c6c"
      },
      "source": [
        "probas = nbtrain.predict_proba(prob_dataset)\n",
        "prob_list=[]\n",
        "\n",
        "for i in range(len(probas)):\n",
        "  maxProbas = np.amax(probas[i])\n",
        "  prob_list.insert(i, maxProbas)\n",
        "  \n",
        "list_of_session_id = result['Session Id'].to_list()\n",
        "dataset_result = pd.DataFrame(\n",
        "    {'Session Id': list_of_session_id,\n",
        "     'Probability': prob_list\n",
        "    })\n",
        "\n",
        "dataset_result.head()\n"
      ],
      "execution_count": 95,
      "outputs": [
        {
          "output_type": "execute_result",
          "data": {
            "text/html": [
              "<div>\n",
              "<style scoped>\n",
              "    .dataframe tbody tr th:only-of-type {\n",
              "        vertical-align: middle;\n",
              "    }\n",
              "\n",
              "    .dataframe tbody tr th {\n",
              "        vertical-align: top;\n",
              "    }\n",
              "\n",
              "    .dataframe thead th {\n",
              "        text-align: right;\n",
              "    }\n",
              "</style>\n",
              "<table border=\"1\" class=\"dataframe\">\n",
              "  <thead>\n",
              "    <tr style=\"text-align: right;\">\n",
              "      <th></th>\n",
              "      <th>Session Id</th>\n",
              "      <th>Probability</th>\n",
              "    </tr>\n",
              "  </thead>\n",
              "  <tbody>\n",
              "    <tr>\n",
              "      <th>0</th>\n",
              "      <td>41cb91c7-ec1d-4e71-98fd-9e1c374bd33b</td>\n",
              "      <td>0.923655</td>\n",
              "    </tr>\n",
              "    <tr>\n",
              "      <th>1</th>\n",
              "      <td>c9d3f8e4-1445-45f2-99db-754bda50766c</td>\n",
              "      <td>0.928902</td>\n",
              "    </tr>\n",
              "    <tr>\n",
              "      <th>2</th>\n",
              "      <td>f85ffa39-b799-49a1-82b5-2f76a4009212</td>\n",
              "      <td>0.932182</td>\n",
              "    </tr>\n",
              "    <tr>\n",
              "      <th>3</th>\n",
              "      <td>49336ffb-a9b7-485c-9891-6274482484e0</td>\n",
              "      <td>0.942299</td>\n",
              "    </tr>\n",
              "    <tr>\n",
              "      <th>4</th>\n",
              "      <td>8ea9c920-6686-46f2-acd1-4bf20371c28c</td>\n",
              "      <td>0.932916</td>\n",
              "    </tr>\n",
              "  </tbody>\n",
              "</table>\n",
              "</div>"
            ],
            "text/plain": [
              "                             Session Id  Probability\n",
              "0  41cb91c7-ec1d-4e71-98fd-9e1c374bd33b     0.923655\n",
              "1  c9d3f8e4-1445-45f2-99db-754bda50766c     0.928902\n",
              "2  f85ffa39-b799-49a1-82b5-2f76a4009212     0.932182\n",
              "3  49336ffb-a9b7-485c-9891-6274482484e0     0.942299\n",
              "4  8ea9c920-6686-46f2-acd1-4bf20371c28c     0.932916"
            ]
          },
          "metadata": {},
          "execution_count": 95
        }
      ]
    },
    {
      "cell_type": "code",
      "metadata": {
        "colab": {
          "base_uri": "https://localhost:8080/"
        },
        "id": "4m5ul_hjoC0A",
        "outputId": "0251d504-59f7-4a0c-ffee-9435af1ca181"
      },
      "source": [
        "print(\"Number of rows dataset result :\", dataset_result[dataset_result.columns[0]].count())"
      ],
      "execution_count": 96,
      "outputs": [
        {
          "output_type": "stream",
          "name": "stdout",
          "text": [
            "Number of rows dataset result : 371466\n"
          ]
        }
      ]
    },
    {
      "cell_type": "code",
      "metadata": {
        "id": "MG8bWI3HzRLu"
      },
      "source": [
        "dataset_result.to_csv('result.csv', index=False, encoding='utf-8')"
      ],
      "execution_count": 97,
      "outputs": []
    },
    {
      "cell_type": "code",
      "metadata": {
        "id": "AOYl8cO3zRsL"
      },
      "source": [
        ""
      ],
      "execution_count": 97,
      "outputs": []
    }
  ]
}